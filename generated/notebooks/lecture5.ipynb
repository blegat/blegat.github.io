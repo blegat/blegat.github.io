{
 "cells": [
  {
   "cell_type": "markdown",
   "source": [
    "# Lecture 5 &ndash; Linear Programming duality and Branch and Bound\n",
    "\n",
    "\n",
    "---\n",
    "\n",
    "# Linear Programming duality"
   ],
   "metadata": {}
  },
  {
   "cell_type": "markdown",
   "source": [
    "min x_1 + 2x_2\n",
    "s.t. x_1 >= 2\n",
    "     x_2 >= 3"
   ],
   "metadata": {}
  },
  {
   "outputs": [],
   "cell_type": "code",
   "source": [
    "using JuMP\n",
    "import HiGHS\n",
    "model = Model(HiGHS.Optimizer)\n",
    "@variable(model, x[1:2])\n",
    "@constraint(model, c1, x[1] >= 2)\n",
    "@constraint(model, c2, x[2] >= 3)\n",
    "@constraint(model, x[1] + x[2] <= 10)\n",
    "@objective(model, Min, x[1] + 2x[2])\n",
    "optimize!(model)\n",
    "solution_summary(model)\n",
    "value.(x)\n",
    "dual(c1)\n",
    "dual(c2)"
   ],
   "metadata": {},
   "execution_count": null
  },
  {
   "cell_type": "markdown",
   "source": [
    "Why 8 ?\n",
    "Let `γ` be the minimum."
   ],
   "metadata": {}
  },
  {
   "cell_type": "markdown",
   "source": [
    "## Upper bound given by the primal\n",
    "`x_1 = 2, x_2 = 3` is feasible and\n",
    "the objective value at `(2, 3)` is `2 + 2 * 3 = 8`\n",
    "We conclude that `γ ≤ 8`"
   ],
   "metadata": {}
  },
  {
   "cell_type": "markdown",
   "source": [
    "## Lower bound given by the primal\n",
    "Suppose `x_1, x_2` is feasible\n",
    "Then `(x_1 - 2) ≥ 0` and `(x_2 - 3) ≥ 0`\n",
    "Then `1 * (x_1 - 2) + 2 * (x_2 - 3) ≥ 0`\n",
    "Simplifying `x_1 + 2x_2 - 8 ≥ 0`\n",
    "Therefore `x_1 + 2x_2 ≥ 8`\n",
    "We conclude that `γ ≥ 8`"
   ],
   "metadata": {}
  },
  {
   "cell_type": "markdown",
   "source": [
    "Combining both, `γ = 8`"
   ],
   "metadata": {}
  },
  {
   "outputs": [],
   "cell_type": "code",
   "source": [
    "using Polyhedra, Plots\n",
    "plot(polyhedron(model))"
   ],
   "metadata": {},
   "execution_count": null
  },
  {
   "cell_type": "markdown",
   "source": [
    "## Primal\n",
    "\n",
    "Hey, I found `x = (3, 3)` is feasible.\n",
    "And the objective is `3 + 2 * 3 = 9`.\n",
    "It means that `9` is an upper bound to the optimal objective value."
   ],
   "metadata": {}
  },
  {
   "cell_type": "markdown",
   "source": [
    "## Dual\n",
    "\n",
    "If `x_1 >= 2` and `x_2 >= 3` then `x_1 + 2x_2 >= 2 + 2*3 = 8`\n",
    "In other words, if `x` is feasible then the objective function value at `x`\n",
    "is at least `8`.\n",
    "In other words, `8` is a lower bound to the optimal objective value."
   ],
   "metadata": {}
  },
  {
   "cell_type": "markdown",
   "source": [
    "min x_1 + 2x_2 + 3x_3\n",
    "s.t.\n",
    "   x_1 + 3x_2 + 4x_3 = 1\n",
    "  -x_2 + 2x_2 - 2x_3 = 3\n",
    "  2x_1 + 3x_2 + 5x_3 = 2\n",
    "\n",
    "If (3x_1 - x_2^2) * row_1 + 3 * row_2 - (5x_2*x_3) * row_3 = x_1 + 2x_2 + 3x_3 - 5\n",
    "then the objective value is `5` at any feasible solution."
   ],
   "metadata": {}
  },
  {
   "outputs": [],
   "cell_type": "code",
   "source": [
    "using RowEchelon"
   ],
   "metadata": {},
   "execution_count": null
  },
  {
   "cell_type": "markdown",
   "source": [
    "(x1 + 3x2 + 4x3 - 1) == 0"
   ],
   "metadata": {}
  },
  {
   "outputs": [],
   "cell_type": "code",
   "source": [
    "A = [\n",
    "    1 3  4 1\n",
    "   -1 2 -2 3\n",
    "    2 3  5 2\n",
    "]\n",
    "\n",
    "using TypedPolynomials\n",
    "@polyvar x[1:3]\n",
    "\n",
    "rref(A)\n",
    "\n",
    "A[1, :] = A[1, :] + A[3, :]\n",
    "\n",
    "A\n",
    "\n",
    "# Hilbert's Nullstellensatz"
   ],
   "metadata": {},
   "execution_count": null
  },
  {
   "cell_type": "markdown",
   "source": [
    "### Bad news from Algebraic Geometry:\n",
    "\n",
    "Start from polynomials $p_1, p_2, ..., p_m$, and you consider the set of solutions\n",
    "V = {x | p_1(x) = 0, p_2(x) = 0, ..., p_m(x) = 0}\n",
    "Now you want to find the set of $q(x)$ such that $q(x) = 0$ for all $x \\in V$\n",
    "\n",
    "1. You need to consider $q(x) = a_1(x) * p_1(x) + a_2(x) * p_2(x) + ... + a_m(x) * p_m(x)$\n",
    "   where `a_i(x)` are polynomials\n",
    "2. But it might not be enough... Counter-example: if `p_1(x) = x^2`, we cannot generate\n",
    "   `q(x) = x`"
   ],
   "metadata": {}
  },
  {
   "cell_type": "markdown",
   "source": [
    "### Good news from Linear Algebra:\n",
    "\n",
    "1. If `p_1, p_2, ..., p_m` are affine then we can just take `a_1(x)`, `a_2(x)`, ... to be constants\n",
    "2. We will always generate all `q(x)`"
   ],
   "metadata": {}
  },
  {
   "cell_type": "markdown",
   "source": [
    "## Krivine–Stengle Positivstellensatz"
   ],
   "metadata": {}
  },
  {
   "cell_type": "markdown",
   "source": [
    "### Bad news from Algebraic Geometry:"
   ],
   "metadata": {}
  },
  {
   "cell_type": "markdown",
   "source": [
    "Start from polynomials $p_1, p_2, ..., p_m$, and you consider the set of solutions\n",
    "V = {x | p_1(x) ≥ 0, p_2(x) ≥ 0, ..., p_m(x) ≥ 0}\n",
    "Now you want to find the set of $q(x)$ such that $q(x) ≥ 0$ for all $x \\in V$\n",
    "E.g., `p_1(x) = 1 - x_1^2 - x_2^2` then `V = {x | x_1^2 + x_2^2 <= 1}` which is a 2-dimensional disk"
   ],
   "metadata": {}
  },
  {
   "cell_type": "markdown",
   "source": [
    "1. You need to consider $q(x) = (a_11(x)^2 + a_12(x)^2 + ...) * p_1(x) + ...$\n",
    "   where `a_i(x)` are polynomials\n",
    "2. But it might not be enough... But let's not go into details"
   ],
   "metadata": {}
  },
  {
   "cell_type": "markdown",
   "source": [
    "### Good news from Polyhedral Computation:"
   ],
   "metadata": {}
  },
  {
   "cell_type": "markdown",
   "source": [
    "V is a polyhedron which is convex and for which the geometry is well understood"
   ],
   "metadata": {}
  },
  {
   "cell_type": "markdown",
   "source": [
    "1. You can consider `a_i(x)` that are nonnegative constants\n",
    "2. And it is enough to generate all `q(x)` !"
   ],
   "metadata": {}
  },
  {
   "cell_type": "markdown",
   "source": [
    "min x_1 + 2x_2 + 3x_3\n",
    "s.t.\n",
    "   x_1 + 3x_2 + 4x_3 >= 1\n",
    "  -x_2 + 2x_2 - 2x_3 >= 3\n",
    "  2x_1 + 3x_2 + 5x_3 >= 2\n",
    "\n",
    "I want to find `λ_1, λ_2, λ_3 >= 0` that are nonnegative\n",
    "and such that `λ_1 * row_1 + λ_2 * row_3 + λ_3 * row_3 = x_1 + 2x_2 + 3x_3 + ?`\n",
    "where `?` can be any constant."
   ],
   "metadata": {}
  },
  {
   "cell_type": "markdown",
   "source": [
    "For next week:"
   ],
   "metadata": {}
  },
  {
   "cell_type": "markdown",
   "source": [
    "1. Can I find these `λ`s using Linear Programming ?\n",
    "2. How can I get the best bound so kind of optimize on the `?` I get with these `λ`s ?"
   ],
   "metadata": {}
  },
  {
   "outputs": [],
   "cell_type": "code",
   "source": [
    "x + y <= 1 and -y <= 0 implies x <= 1\n",
    "\n",
    "(x + y - 1) + (x - y - 0.5) # x <= 0.75\n",
    "\n",
    "2(x + y - 1) + (x - y - 0.5) # 3x + y <= 2.5\n",
    "\n",
    "1.5*(x + y - 1) + 0.5*(x - y - 0.5) # 2x + y <= 1.75\n",
    "\n",
    "(a + b) * x + (a - b) * y - (a + 0.5b)\n",
    "\n",
    "A = [1 1\n",
    "1 -1]\n",
    "b = [2, 1]\n",
    "A \\ b\n",
    "\n",
    "var = 2\n",
    "\n",
    "using JuMP\n",
    "import HiGHS\n",
    "model = Model(HiGHS.Optimizer)\n",
    "@variable(model, c <= 0)\n",
    "@variable(model, d <= 0)"
   ],
   "metadata": {},
   "execution_count": null
  },
  {
   "cell_type": "markdown",
   "source": [
    "(a + c + d) * x + (b + c - d) * y >= c + 0.5d"
   ],
   "metadata": {}
  },
  {
   "outputs": [],
   "cell_type": "code",
   "source": [
    "@constraint(model, c + d <= -2)\n",
    "@constraint(model, c - d <= -1)\n",
    "@objective(model, Max, c + 0.5d)\n",
    "optimize!(model)\n",
    "solution_summary(model)\n",
    "\n",
    "value(c), value(d)\n",
    "\n",
    "-1.5  <= -1.5x - 1.5y (c)\n",
    "-0.25 <= -0.5x + 0.5y (d)\n",
    "-1.75 <= -2x   -    y\n",
    "\n",
    "(1 - x - y) >= 0\n",
    "(0.5 - x + y) >= 0\n",
    "(x + 1)^2 * (1 - x - y) * (0.5 - x + y) >= 0, Positivstellensatz\n",
    "\n",
    "using JuMP\n",
    "import HiGHS\n",
    "model = Model(HiGHS.Optimizer)\n",
    "@variable(model, x >= 0) # a\n",
    "@variable(model, y >= 0) # b\n",
    "@constraint(model, λ, x + y <= 1) # c\n",
    "@constraint(model, ν, x - y <= 0.5) # d\n",
    "@objective(model, Min, -2x - y)\n",
    "optimize!(model)\n",
    "solution_summary(model)\n",
    "\n",
    "@show dual(λ)\n",
    "@show dual(ν)"
   ],
   "metadata": {},
   "execution_count": null
  },
  {
   "cell_type": "markdown",
   "source": [
    "0 <= a * x + b * y + c * (1 - x - y) + d * (0.5 - x + y) = -2x - y + σ\n",
    "-2x - y >= -σ"
   ],
   "metadata": {}
  },
  {
   "outputs": [],
   "cell_type": "code",
   "source": [
    "model = Model(HiGHS.Optimizer)\n",
    "@variable(model, a >= 0)\n",
    "@variable(model, b >= 0)\n",
    "@variable(model, c >= 0)\n",
    "@variable(model, d >= 0)\n",
    "@constraint(model, a - c - d == -2)\n",
    "@constraint(model, b - c + d == -1)\n",
    "@objective(model, Max, -c - d/2)\n",
    "optimize!(model)\n",
    "solution_summary(model)\n",
    "@show value(c)\n",
    "@show value(d)\n",
    "\n",
    "dual(LowerBoundRef(x)),dual(LowerBoundRef(y)),  dual(λ), dual(ν)\n",
    "\n",
    "value(x), value(y)\n",
    "\n",
    "objective_value(model)"
   ],
   "metadata": {},
   "execution_count": null
  },
  {
   "cell_type": "markdown",
   "source": [
    "a >= 0, c >= 0\n",
    "b <= 0, d <= 0\n",
    "a * b + c * d"
   ],
   "metadata": {}
  },
  {
   "outputs": [],
   "cell_type": "code",
   "source": [
    "1.5 * (1 - x - y) + 0.5 * (0.5 + y - x)\n",
    "\n",
    "2x + y - 1.75 <= 0 -> 2x + y <= 1.75\n",
    "\n",
    "using Plots\n",
    "using Polyhedra\n",
    "plot(polyhedron(model))\n",
    "plot!([0.875, 0.375], [0.0, 1.0])\n",
    "scatter!([value(x)], [value(y)])\n",
    "\n",
    "dual(LowerBoundRef(x))\n",
    "\n",
    "dual(LowerBoundRef(y))\n",
    "\n",
    "dual(λ)\n",
    "\n",
    "dual(ν)"
   ],
   "metadata": {},
   "execution_count": null
  },
  {
   "cell_type": "markdown",
   "source": [
    "* Primal feasible points give *lower* bounds to *maximal* objective value.\n",
    "* Primal feasible points give *upper* bounds to *minimal* objective value.\n",
    "\n",
    "* Dual feasible points give *upper* bounds to *maximal* objective value.\n",
    "* Dual feasible points give *lower* bounds to *minimal* objective value."
   ],
   "metadata": {}
  },
  {
   "outputs": [],
   "cell_type": "code",
   "source": [
    "using Dualization\n",
    "dua = dualize(model)\n",
    "v = all_variables(dua)\n",
    "set_name(v[1], \"λ\")\n",
    "set_name(v[2], \"ν\")\n",
    "println(dua)\n",
    "\n",
    "JuMP.dual(λ)\n",
    "\n",
    "JuMP.dual(ν)\n",
    "\n",
    "-0.5 * (-0.5) + 1.5\n",
    "\n",
    "-1.5 * (x + y - 1) + (-0.5) * (x - y - 0.5)\n",
    "\n",
    "2x + y <= 1.75"
   ],
   "metadata": {},
   "execution_count": null
  },
  {
   "cell_type": "markdown",
   "source": [
    "$$(x + y \\le 1) \\text{ and } (x \\le y + 0.5) \\Rightarrow 2x + y \\le 1.75$$"
   ],
   "metadata": {}
  },
  {
   "cell_type": "markdown",
   "source": [
    "$$(x + y \\le 1) \\text{ and } (x \\le y + 0.5) \\Rightarrow 2x + y \\le \\beta$$"
   ],
   "metadata": {}
  },
  {
   "cell_type": "markdown",
   "source": [
    "$$\\lambda (x + y - 1) + \\nu (x - y - 0.5) = 2x + y - \\beta$$"
   ],
   "metadata": {}
  },
  {
   "cell_type": "markdown",
   "source": [
    "$$(\\lambda + \\nu - 2) x + (\\lambda - \\nu - 1) y + (-\\lambda - 0.5\\nu + \\beta) = 0$$"
   ],
   "metadata": {}
  },
  {
   "outputs": [],
   "cell_type": "code",
   "source": [
    "d = Model(HiGHS.Optimizer)\n",
    "@variable(d, λ >= 0)\n",
    "@variable(d, ν >= 0)\n",
    "@constraint(d, λ + ν >= 2)\n",
    "@constraint(d, λ - ν >= 1)\n",
    "@objective(d, Min, λ + 0.5ν)\n",
    "optimize!(d)\n",
    "termination_status(d)\n",
    "\n",
    "value(λ)\n",
    "\n",
    "value(ν)"
   ],
   "metadata": {},
   "execution_count": null
  },
  {
   "cell_type": "markdown",
   "source": [
    "$$2x + y \\le 2.2x + 1.5y \\le 1.75$$"
   ],
   "metadata": {}
  },
  {
   "outputs": [],
   "cell_type": "code",
   "source": [
    "using JuMP\n",
    "import HiGHS\n",
    "model = Model(HiGHS.Optimizer)\n",
    "@variable(model, x >= 0, Int)\n",
    "@variable(model, y >= 0, Int)\n",
    "@constraint(model, λ, x + y <= 2)\n",
    "@constraint(model, ν, x <= y + 1)\n",
    "@objective(model, Max, 2x + y)\n",
    "optimize!(model)\n",
    "solution_summary(model)\n",
    "\n",
    "value(x), value(y)\n",
    "\n",
    "using Plots\n",
    "using Polyhedra\n",
    "plot(polyhedron(model))\n",
    "plot!(2*[0.875, 0.375], 2*[0.0, 1.0])\n",
    "scatter!([value(x)], [value(y)])"
   ],
   "metadata": {},
   "execution_count": null
  },
  {
   "cell_type": "markdown",
   "source": [
    "Dual gives upper bound of 2.5. (1.0, 1.0) is feasible and gives 3."
   ],
   "metadata": {}
  },
  {
   "cell_type": "markdown",
   "source": [
    "3 <= restricted problem <= initial problem (Max) <= relaxed problem <= 3.5"
   ],
   "metadata": {}
  },
  {
   "cell_type": "markdown",
   "source": [
    "1.5 <= branch (y <= 0) <= 2\n",
    "3 <= branch (y >= 1) <= 3"
   ],
   "metadata": {}
  },
  {
   "outputs": [],
   "cell_type": "code",
   "source": [
    "using JuMP\n",
    "import HiGHS\n",
    "model = Model(HiGHS.Optimizer)\n",
    "@variable(model, z)\n",
    "@variable(model, x >= 0, Int)\n",
    "@variable(model, 0 <= y <= 0, Int)\n",
    "@constraint(model, λ, x + y <= 2)\n",
    "@constraint(model, ν, x <= y + 1)\n",
    "@objective(model, Max, 2x + y)\n",
    "optimize!(model)\n",
    "solution_summary(model)\n",
    "\n",
    "value(x), value(y)\n",
    "\n",
    "using JuMP\n",
    "import HiGHS\n",
    "model = Model(HiGHS.Optimizer)\n",
    "@variable(model, z)\n",
    "@variable(model, x >= 0)\n",
    "@variable(model, 1 <= y)\n",
    "@constraint(model, λ, x + y <= 2)\n",
    "@constraint(model, ν, x <= y + 1)\n",
    "@objective(model, Max, 2x + y)\n",
    "optimize!(model)\n",
    "solution_summary(model)\n",
    "\n",
    "value(x), value(y)"
   ],
   "metadata": {},
   "execution_count": null
  },
  {
   "cell_type": "markdown",
   "source": [
    "---\n",
    "\n",
    "*This notebook was generated using [Literate.jl](https://github.com/fredrikekre/Literate.jl).*"
   ],
   "metadata": {}
  }
 ],
 "nbformat_minor": 3,
 "metadata": {
  "language_info": {
   "file_extension": ".jl",
   "mimetype": "application/julia",
   "name": "julia",
   "version": "1.12.1"
  },
  "kernelspec": {
   "name": "julia-1.12",
   "display_name": "Julia 1.12.1",
   "language": "julia"
  }
 },
 "nbformat": 4
}