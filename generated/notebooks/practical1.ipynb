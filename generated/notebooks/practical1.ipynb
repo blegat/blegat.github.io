{
 "cells": [
  {
   "cell_type": "markdown",
   "source": [
    "# Practical 1 &ndash; Linear regressions\n",
    "\n",
    "\n",
    "---\n",
    "\n",
    "**Written by**: Jean Bouchat\n",
    "\n",
    "In this session, we'll get right into coding to import, visualize, and analyze a dataset gathered by the World Health Organization (WHO) on life expectancy. The goal is to familiarize yourself with Julia, the use of a Jupyter notebook, and get an overview of one of the most popular data analysis methods in research, linear regression."
   ],
   "metadata": {}
  },
  {
   "cell_type": "markdown",
   "source": [
    "## Dataset import"
   ],
   "metadata": {}
  },
  {
   "cell_type": "markdown",
   "source": [
    "The very first step in any data analysis is to get the data. We downloaded the ones we will use today on [Kaggle](https://www.kaggle.com/datasets/kumarajarshi/life-expectancy-who).\n",
    "\n",
    "The data set we want to exploit is contained in a csv file, and Julia is not able to open these files natively. Two separate libraries are actually needed: `CSV` et `DataFrames` [go further: Read CSV to Data Frame in Julia](https://towardsdatascience.com/read-csv-to-data-frame-in-julia-programming-lang-77f3d0081c14).\n",
    "\n",
    "Let us install them, if it is not already done,"
   ],
   "metadata": {}
  },
  {
   "outputs": [],
   "cell_type": "code",
   "source": [
    "using Pkg\n",
    "Pkg.add(\"CSV\")\n",
    "Pkg.add(\"DataFrames\")"
   ],
   "metadata": {},
   "execution_count": null
  },
  {
   "cell_type": "markdown",
   "source": [
    "and then import them to be able to actually use them"
   ],
   "metadata": {}
  },
  {
   "outputs": [],
   "cell_type": "code",
   "source": [
    "using CSV\n",
    "using DataFrames"
   ],
   "metadata": {},
   "execution_count": null
  },
  {
   "cell_type": "markdown",
   "source": [
    "We can now read the csv file that we want to explore"
   ],
   "metadata": {}
  },
  {
   "outputs": [],
   "cell_type": "code",
   "source": [
    "csv_file = CSV.File(\"./Life Expectancy Data.csv\")\n",
    "\n",
    "for row in csv_file[1:3]\n",
    "    println(row)\n",
    "end"
   ],
   "metadata": {},
   "execution_count": null
  },
  {
   "cell_type": "markdown",
   "source": [
    "As you can see, while `CSV` allows us to read (and write) into csv files, it is not made for data manipulation. The `DataFrames` package is much more convenient for manipulating data tables. Check out its documentation https://dataframes.juliadata.org/stable/ if you want to learn more about it.\n",
    "\n",
    "Let us now generate a dataframe with the contents of our csv file."
   ],
   "metadata": {}
  },
  {
   "outputs": [],
   "cell_type": "code",
   "source": [
    "df = DataFrame(csv_file)"
   ],
   "metadata": {},
   "execution_count": null
  },
  {
   "cell_type": "markdown",
   "source": [
    "To get a first understanding of the data table we are exploring, let us have a look at the names of its columns"
   ],
   "metadata": {}
  },
  {
   "outputs": [],
   "cell_type": "code",
   "source": [
    "names(df)"
   ],
   "metadata": {},
   "execution_count": null
  },
  {
   "cell_type": "markdown",
   "source": [
    "and select the rows of the dataframe that relate to Afghanistan"
   ],
   "metadata": {}
  },
  {
   "outputs": [],
   "cell_type": "code",
   "source": [
    "df[df.:\"Country\" .== \"Afghanistan\", :]"
   ],
   "metadata": {},
   "execution_count": null
  },
  {
   "cell_type": "markdown",
   "source": [
    "## Cleaning names\n",
    "\n",
    "The spaces in the names makes it cumbersome to access."
   ],
   "metadata": {}
  },
  {
   "outputs": [],
   "cell_type": "code",
   "source": [
    "df.:\"Life expectancy \""
   ],
   "metadata": {},
   "execution_count": null
  },
  {
   "cell_type": "markdown",
   "source": [
    "The keyword `normalizenames` removes trailing whitespaces and replace inner spaces by `_`."
   ],
   "metadata": {}
  },
  {
   "outputs": [],
   "cell_type": "code",
   "source": [
    "csv_file = CSV.File(\"./Life Expectancy Data.csv\", normalizenames=true)\n",
    "\n",
    "df = DataFrame(csv_file)\n",
    "\n",
    "names(df)"
   ],
   "metadata": {},
   "execution_count": null
  },
  {
   "cell_type": "markdown",
   "source": [
    "## Dataset exploration"
   ],
   "metadata": {}
  },
  {
   "cell_type": "markdown",
   "source": [
    "What we want to learn is if there is a link between life expectancy throughout the world and other demographic variables."
   ],
   "metadata": {}
  },
  {
   "outputs": [],
   "cell_type": "code",
   "source": [
    "df.Life_expectancy"
   ],
   "metadata": {},
   "execution_count": null
  },
  {
   "cell_type": "markdown",
   "source": [
    "Visualizing the data is ususally the main driver to understanding what they mean. For this, we need yet another package, `Plots`. Check out its documentation https://docs.juliaplots.org/stable/ if you want to learn more about it."
   ],
   "metadata": {}
  },
  {
   "outputs": [],
   "cell_type": "code",
   "source": [
    "Pkg.add(\"Plots\")\n",
    "\n",
    "using Plots"
   ],
   "metadata": {},
   "execution_count": null
  },
  {
   "cell_type": "markdown",
   "source": [
    "To learn more about the evolution of life expectancy in Afghanistan through the recent years, we will plot its time series"
   ],
   "metadata": {}
  },
  {
   "outputs": [],
   "cell_type": "code",
   "source": [
    "x = df[df.Country .== \"Afghanistan\", :].Year\n",
    "y = df[df.Country .== \"Afghanistan\", :].Life_expectancy\n",
    "\n",
    "plot(x, y, label=\"Afghanistan\", title=\"Life expectancy\", ylabel=\"Life expectancy\", markershape=:circle)"
   ],
   "metadata": {},
   "execution_count": null
  },
  {
   "cell_type": "markdown",
   "source": [
    "But it does not tell us much by itself. Often, comparisons allows for a more intimate understanding of such quantities, but we do not know which countries are actually listed in the dataset. We can find out by printing their names"
   ],
   "metadata": {}
  },
  {
   "outputs": [],
   "cell_type": "code",
   "source": [
    "for country in unique(df, :Country).Country\n",
    "    println(country)\n",
    "end"
   ],
   "metadata": {},
   "execution_count": null
  },
  {
   "cell_type": "markdown",
   "source": [
    "and plot time series of life expectancy for countries you might be familiar with"
   ],
   "metadata": {}
  },
  {
   "outputs": [],
   "cell_type": "code",
   "source": [
    "fig = plot()\n",
    "for country in [\"Belgium\", \"Canada\", \"China\", \"Singapore\", \"United States of America\"]\n",
    "    y = df[df.Country .== country, :].Life_expectancy\n",
    "    plot!(x, y, label=country, markershape=:circle)\n",
    "end\n",
    "display(fig)"
   ],
   "metadata": {},
   "execution_count": null
  },
  {
   "cell_type": "markdown",
   "source": [
    "To begin to understand the relationship between life expectancy and the other features given in this table, let us reduce our analysis to the year 2012 (for the example)"
   ],
   "metadata": {}
  },
  {
   "outputs": [],
   "cell_type": "code",
   "source": [
    "df = df[df.Year .== 2012, :];"
   ],
   "metadata": {},
   "execution_count": null
  },
  {
   "cell_type": "markdown",
   "source": [
    "and generate a scatter plot of life expectancy and BMI"
   ],
   "metadata": {}
  },
  {
   "outputs": [],
   "cell_type": "code",
   "source": [
    "y = df.Life_expectancy\n",
    "x = df.BMI\n",
    "\n",
    "println(x)\n",
    "\n",
    "scatter(x, y, ylabel=\"Life expectancy\", xlabel=\"BMI\")"
   ],
   "metadata": {},
   "execution_count": null
  },
  {
   "cell_type": "markdown",
   "source": [
    "## Linear regression analysis"
   ],
   "metadata": {}
  },
  {
   "cell_type": "markdown",
   "source": [
    "`LinearAlgebra` is standard library of Julia. It provides native implementations of the most common linear algebra operations. Check out its documentation https://docs.julialang.org/en/v1/stdlib/LinearAlgebra/ to learn more about it.\n",
    "\n",
    "To quantify the linear relationship between life expectancy and BMI, we will fit a simple linear regression model by solving a least-squares problem with the backslash `\\ ` operator [go further: Least squares in Julia](https://stanford.edu/class/engr108/lectures/julia_least_squares_slides.pdf) which solves for $x$ systems such that $Ax=y$."
   ],
   "metadata": {}
  },
  {
   "outputs": [],
   "cell_type": "code",
   "source": [
    "#Pkg.add(\"LinearAlgebra\")\n",
    "using LinearAlgebra\n",
    "\n",
    "new_df = dropmissing(df);\n",
    "\n",
    "y = new_df.Life_expectancy\n",
    "A = new_df.BMI\n",
    "\n",
    "scatter(A, y, label=\"Data\")"
   ],
   "metadata": {},
   "execution_count": null
  },
  {
   "cell_type": "markdown",
   "source": [
    "Linear regression model: A*x+b=y -> new_A*x=y"
   ],
   "metadata": {}
  },
  {
   "outputs": [],
   "cell_type": "code",
   "source": [
    "y = new_df.Life_expectancy\n",
    "A = new_df.BMI\n",
    "\n",
    "scatter(A, y, label=\"Data\")\n",
    "\n",
    "println(\"size(A) = \", size(A))\n",
    "println(\"size(A') = \", size(A'))\n",
    "\n",
    "new_A = vcat(A', ones(size(A))')'\n",
    "\n",
    "println(\"size(new_A) = \", size(new_A))\n",
    "println(\"size(y) = \", size(y))\n",
    "\n",
    "coefs = new_A\\y # Cannot handle missing values (hence dropmissing() above)\n",
    "\n",
    "println(\"size(new_A\\\\y) = \", size(new_A\\y))\n",
    "println(\"Regression line: \", coefs[1], \"*x+\", coefs[2])\n",
    "\n",
    "x = minimum(new_A):maximum(new_A)\n",
    "plot!(x, coefs[1]*x.+coefs[2], label=\"Linear regression\")"
   ],
   "metadata": {},
   "execution_count": null
  },
  {
   "cell_type": "markdown",
   "source": [
    "Finally, let us quantify the fit of the linear regression model to the data via quality metrics"
   ],
   "metadata": {}
  },
  {
   "outputs": [],
   "cell_type": "code",
   "source": [
    "Pkg.add(\"Statistics\")\n",
    "\n",
    "using Statistics\n",
    "\n",
    "println(\"Pearson's correlation coefficient R = \", cor(new_df[:, :Life_expectancy], new_df[:, :BMI]))\n",
    "print(\"Coefficient of determination R^2 = \", cor(new_df[:, :Life_expectancy], new_df[:, :BMI])^2)"
   ],
   "metadata": {},
   "execution_count": null
  },
  {
   "cell_type": "markdown",
   "source": [
    "## Homework\n",
    "\n",
    "Based on the results above, BMI seems not to be a very good predictor of life expectancy accross the world. Can you find a better explanatory variable using [simple linear regression](https://en.wikipedia.org/wiki/Simple_linear_regression) models ? Try also using multiple explanatory variables in a [multiple linear regression](https://en.wikipedia.org/wiki/Linear_regression#Simple_and_multiple_linear_regression) to see if they provide better results."
   ],
   "metadata": {}
  },
  {
   "cell_type": "markdown",
   "source": [
    "---\n",
    "\n",
    "*This notebook was generated using [Literate.jl](https://github.com/fredrikekre/Literate.jl).*"
   ],
   "metadata": {}
  }
 ],
 "nbformat_minor": 3,
 "metadata": {
  "language_info": {
   "file_extension": ".jl",
   "mimetype": "application/julia",
   "name": "julia",
   "version": "1.11.7"
  },
  "kernelspec": {
   "name": "julia-1.11",
   "display_name": "Julia 1.11.7",
   "language": "julia"
  }
 },
 "nbformat": 4
}
