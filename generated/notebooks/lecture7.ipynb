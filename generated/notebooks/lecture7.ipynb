{
 "cells": [
  {
   "cell_type": "markdown",
   "source": [
    "# Lecture 7 &ndash; Traveling Salesman Problem\n",
    "\n",
    "\n",
    "---\n",
    "\n",
    "# Visualization"
   ],
   "metadata": {}
  },
  {
   "outputs": [],
   "cell_type": "code",
   "source": [
    "n = 30\n",
    "using Random\n",
    "Random.seed!(1234)\n",
    "x = rand(n)\n",
    "y = rand(n)\n",
    "\n",
    "using Plots\n",
    "function p(x, y, order)\n",
    "    scatter(x, y, label=\"\")\n",
    "    for i in 1:n\n",
    "        from = order[i]\n",
    "        to = order[mod1(i + 1, n)]\n",
    "        plot!([x[from], x[to]], [y[from], y[to]], label=\"\", color=:black)\n",
    "    end\n",
    "    plot!()\n",
    "end\n",
    "\n",
    "p(x, y, 1:12)\n",
    "\n",
    "norm([x[1] - x[2], y[1] - y[2]])\n",
    "\n",
    "cost(x, y, 1:10)\n",
    "\n",
    "cost(x, y, [1, 4, 3, 2, 5, 9, 8, 6, 7, 10])\n",
    "\n",
    "p(x, y, [1, 4, 3, 2, 5, 9, 8, 6, 7, 10])\n",
    "\n",
    "using LinearAlgebra\n",
    "function cost(x, y, order)\n",
    "    n = length(x)\n",
    "    s = 0.0\n",
    "    for i in 1:n\n",
    "        from = order[i]\n",
    "        to = order[mod1(i + 1, n)]\n",
    "        s += norm([x[to] - x[from], y[to] - y[from]])\n",
    "    end\n",
    "    return s\n",
    "end"
   ],
   "metadata": {},
   "execution_count": null
  },
  {
   "cell_type": "markdown",
   "source": [
    "# Brute-Force"
   ],
   "metadata": {}
  },
  {
   "outputs": [],
   "cell_type": "code",
   "source": [
    "using Combinatorics\n",
    "using ProgressMeter\n",
    "function brute_force(x, y)\n",
    "    n = length(x)\n",
    "    best_order = nothing\n",
    "    best_cost = Inf\n",
    "    @showprogress for order in Combinatorics.permutations(1:n)\n",
    "        current_cost = cost(x, y, order)\n",
    "        if current_cost < best_cost\n",
    "            best_cost = current_cost\n",
    "            best_order = order\n",
    "        end\n",
    "    end\n",
    "    return best_order\n",
    "end\n",
    "\n",
    "best_order = @time brute_force(x, y)\n",
    "\n",
    "cost(x, y, best_order)\n",
    "\n",
    "p(x, y, best_order)\n",
    "\n",
    "factorial(20)"
   ],
   "metadata": {},
   "execution_count": null
  },
  {
   "cell_type": "markdown",
   "source": [
    "# Mixed-Integer Programming"
   ],
   "metadata": {}
  },
  {
   "outputs": [],
   "cell_type": "code",
   "source": [
    "using JuMP\n",
    "import HiGHS\n",
    "model = Model(HiGHS.Optimizer)\n",
    "@variable(model, z[i in 1:n, j in [1:(i-1); (i+1):n]], Bin);\n",
    "\n",
    "@objective(model, Min, sum(z[i, j] * norm([x[j] - x[i], y[j] - y[i]]) for i in 1:n for j in 1:n if i != j));\n",
    "\n",
    "optimize!(model)\n",
    "\n",
    "termination_status(model)\n",
    "\n",
    "value.(z)\n",
    "\n",
    "@constraint(model, one_incoming_edge[j in 1:n], sum(z[i, j] for i in 1:n if i != j) == 1)\n",
    "\n",
    "@constraint(model, one_outgoing_edge[i in 1:n], sum(z[i, j] for j in 1:n if i != j) == 1)\n",
    "\n",
    "optimize!(model)\n",
    "solution_summary(model)\n",
    "\n",
    "value.(z)\n",
    "\n",
    "function extract_order(x)\n",
    "    next = zeros(Int, n)\n",
    "    for i in 1:n\n",
    "        for j in 1:n\n",
    "            if i != j && isapprox(x[i, j], 1)\n",
    "                if !iszero(next[i])\n",
    "                    error(\"Two edges outgoing from $i\")\n",
    "                end\n",
    "                next[i] = j\n",
    "            end\n",
    "        end\n",
    "    end\n",
    "    for i in 1:n\n",
    "        if iszero(next[i])\n",
    "            error(\"No outgoing edge from $i\")\n",
    "        end\n",
    "    end\n",
    "    @show next\n",
    "    orders = Vector{Int}[]\n",
    "    visited = falses(n)\n",
    "    for start in 1:n\n",
    "        if !visited[start]\n",
    "            current = start\n",
    "            order = Int[]\n",
    "            while true\n",
    "                visited[current] = true\n",
    "                push!(order, current)\n",
    "                current = next[current]\n",
    "                if current == start\n",
    "                    break\n",
    "                end\n",
    "            end\n",
    "            push!(orders, order)\n",
    "        end\n",
    "    end\n",
    "    return orders\n",
    "end\n",
    "\n",
    "mip_orders = extract_order(value.(z))\n",
    "\n",
    "mip_order = reduce(vcat, mip_orders)\n",
    "\n",
    "cost(x, y, mip_order)\n",
    "\n",
    "p(x, y, mip_order)\n",
    "\n",
    "@constraint(model, z[3, 10] + z[10, 7] + z[7, 8] + z[8, 3] <= 3)\n",
    "\n",
    "@constraint(model, [i in 1:n, j in 1:n; i != j], z[i, j] + z[j, i] <= 1)"
   ],
   "metadata": {},
   "execution_count": null
  },
  {
   "cell_type": "markdown",
   "source": [
    "# Miller-Tucker-Zemlin"
   ],
   "metadata": {}
  },
  {
   "outputs": [],
   "cell_type": "code",
   "source": [
    "@variable(model, 1 <= place[1:n] <= n)"
   ],
   "metadata": {},
   "execution_count": null
  },
  {
   "cell_type": "markdown",
   "source": [
    "if `z[i, j]` is 1 then\n",
    "  `place[i] >= place[j] + 1`"
   ],
   "metadata": {}
  },
  {
   "outputs": [],
   "cell_type": "code",
   "source": [
    "@constraint(model, mtz[i in 1:n, j in 1:n; i != j && j != 1], n * (1 - z[i, j]) + place[i] >= place[j] + 1)\n",
    "\n",
    "optimize!(model)\n",
    "solution_summary(model)\n",
    "\n",
    "value.(place)\n",
    "\n",
    "mip_orders = extract_order(value.(z))\n",
    "\n",
    "mip_order = reduce(vcat, mip_orders)\n",
    "\n",
    "cost(x, y, mip_order)\n",
    "\n",
    "p(x, y, mip_order)\n",
    "\n",
    "factorial(big(30))"
   ],
   "metadata": {},
   "execution_count": null
  },
  {
   "cell_type": "markdown",
   "source": [
    "---\n",
    "\n",
    "*This notebook was generated using [Literate.jl](https://github.com/fredrikekre/Literate.jl).*"
   ],
   "metadata": {}
  }
 ],
 "nbformat_minor": 3,
 "metadata": {
  "language_info": {
   "file_extension": ".jl",
   "mimetype": "application/julia",
   "name": "julia",
   "version": "1.12.1"
  },
  "kernelspec": {
   "name": "julia-1.12",
   "display_name": "Julia 1.12.1",
   "language": "julia"
  }
 },
 "nbformat": 4
}