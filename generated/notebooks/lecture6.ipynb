{
 "cells": [
  {
   "cell_type": "markdown",
   "source": [
    "# Lecture 6 &ndash; Max-Flow and Min-Cut\n",
    "\n",
    "\n",
    "---\n",
    "\n",
    "# Building the graph and visualizing it"
   ],
   "metadata": {}
  },
  {
   "outputs": [],
   "cell_type": "code",
   "source": [
    "using Graphs\n",
    "function build_graph()\n",
    "    G = DiGraph(6)\n",
    "    w = Dict{Graphs.SimpleGraphs.SimpleEdge{Int},Int}()\n",
    "    function add(from, to, weight)\n",
    "        add_edge!(G, from, to)\n",
    "        w[Edge(from => to)] = weight\n",
    "    end\n",
    "    add(1, 2, 3)\n",
    "    add(1, 3, 3)\n",
    "    add(2, 3, 2)\n",
    "    add(2, 4, 3)\n",
    "    add(3, 5, 2)\n",
    "    add(4, 5, 4)\n",
    "    add(4, 6, 2)\n",
    "    add(5, 6, 3)\n",
    "    return G, w\n",
    "end\n",
    "G, w = build_graph()\n",
    "using GraphPlot\n",
    "using Colors\n",
    "\n",
    "gplot(G, nodesize=0.1, nodelabel = 1:6, edgelabel = [w[e] for e in edges(G)], edgelabelsize = 2.0, edgelabelc = colorant\"red\")"
   ],
   "metadata": {},
   "execution_count": null
  },
  {
   "cell_type": "markdown",
   "source": [
    "# Max-Flow"
   ],
   "metadata": {}
  },
  {
   "outputs": [],
   "cell_type": "code",
   "source": [
    "using JuMP\n",
    "import HiGHS\n",
    "model = Model(HiGHS.Optimizer)\n",
    "@variable(model, 0 <= flow[edge in edges(G)] <= w[edge])\n",
    "@objective(model, Max, sum(flow[Edge(1 => to)] for to in Graphs.outneighbors(G, 1)))\n",
    "optimize!(model)\n",
    "\n",
    "function viz()\n",
    "    gplot(G, nodesize=0.1, nodelabel = 1:6, edgelabel = [\"$(Int(value(flow[edge])))/$(w[edge])\" for edge in edges(G)], edgelabelc = colorant\"red\")\n",
    "end\n",
    "viz()\n",
    "\n",
    "value(sum(flow[Edge(3 => to)] for to in Graphs.outneighbors(G, 3)))\n",
    "value(sum(flow[Edge(from => 3)] for from in Graphs.inneighbors(G, 3)))\n",
    "\n",
    "@expression(\n",
    "    model,\n",
    "    incoming_flow[v in Graphs.vertices(G); v != 1],\n",
    "    sum(flow[Edge(from => v)] for from in Graphs.inneighbors(G, v)),\n",
    ")\n",
    "\n",
    "@expression(\n",
    "    model,\n",
    "    outgoing_flow[v in Graphs.vertices(G); v != Graphs.nv(G)],\n",
    "    sum(flow[Edge(v => to)] for to in Graphs.outneighbors(G, v)),\n",
    ")\n",
    "\n",
    "@constraint(model, [v in Graphs.vertices(G); v != 1 && v != Graphs.nv(G)], incoming_flow[v] == outgoing_flow[v])\n",
    "\n",
    "@objective(model, Max, outgoing_flow[1])\n",
    "\n",
    "optimize!(model)\n",
    "solution_summary(model)\n",
    "viz()"
   ],
   "metadata": {},
   "execution_count": null
  },
  {
   "cell_type": "markdown",
   "source": [
    "# Min-Cut"
   ],
   "metadata": {}
  },
  {
   "outputs": [],
   "cell_type": "code",
   "source": [
    "model = Model(HiGHS.Optimizer)\n",
    "@variable(model, 0 <= cut[Graphs.edges(G)] <= 1)\n",
    "\n",
    "@objective(model, Min, sum(w[e] * cut[e] for e in Graphs.edges(G)))\n",
    "\n",
    "optimize!(model)\n",
    "solution_summary(model)\n",
    "\n",
    "gplot(G, nodesize=0.1, nodelabel = 1:6, edgelabel = [w[e] * Int(value(cut[e])) for e in Graphs.edges(G)], edgelabelc = colorant\"red\")"
   ],
   "metadata": {},
   "execution_count": null
  },
  {
   "cell_type": "markdown",
   "source": [
    "| `side[from]` | `side[to]` | `side[to] - side[from]` |\n",
    "|--------------|------------|-------------------------|\n",
    "|      0       |      1     |           1             |\n",
    "|      1       |      0     |          -1             |\n",
    "|      1       |      1     |           0             |\n",
    "|      0       |      0     |           0             |"
   ],
   "metadata": {}
  },
  {
   "outputs": [],
   "cell_type": "code",
   "source": [
    "@variable(model, 0 <= side[1:nv(G)] <= 1)\n",
    "@constraint(model, side[1] == 0)\n",
    "@constraint(model, side[nv(G)] == 1)\n",
    "\n",
    "@constraint(model, [edge in Graphs.edges(G)], cut[edge] >= side[edge.dst] - side[edge.src])\n",
    "\n",
    "optimize!(model)\n",
    "solution_summary(model)\n",
    "\n",
    "using Colors\n",
    "\n",
    "gplot(\n",
    "    G,\n",
    "    nodesize=0.1,\n",
    "    nodelabel = Graphs.vertices(G),\n",
    "    edgelabel = [w[e] * Int(value(cut[e])) for e in Graphs.edges(G)],\n",
    "    edgelabelc = Colors.JULIA_LOGO_COLORS.green,\n",
    "    nodefillc = map(Graphs.vertices(G)) do node\n",
    "        if value(side[node]) < 0.5\n",
    "            Colors.JULIA_LOGO_COLORS.red\n",
    "        else\n",
    "            Colors.JULIA_LOGO_COLORS.blue\n",
    "        end\n",
    "    end,\n",
    "    edgestrokec = map(Graphs.edges(G)) do edge\n",
    "        if value(cut[edge]) < 0.5\n",
    "            \"grey\"\n",
    "        else\n",
    "            Colors.JULIA_LOGO_COLORS.purple\n",
    "        end\n",
    "    end,\n",
    ")"
   ],
   "metadata": {},
   "execution_count": null
  },
  {
   "cell_type": "markdown",
   "source": [
    "---\n",
    "\n",
    "*This notebook was generated using [Literate.jl](https://github.com/fredrikekre/Literate.jl).*"
   ],
   "metadata": {}
  }
 ],
 "nbformat_minor": 3,
 "metadata": {
  "language_info": {
   "file_extension": ".jl",
   "mimetype": "application/julia",
   "name": "julia",
   "version": "1.12.1"
  },
  "kernelspec": {
   "name": "julia-1.12",
   "display_name": "Julia 1.12.1",
   "language": "julia"
  }
 },
 "nbformat": 4
}