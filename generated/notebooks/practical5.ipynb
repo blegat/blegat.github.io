{
 "cells": [
  {
   "cell_type": "markdown",
   "source": [
    "# Practical 5 &ndash; Sensitivity analysis of a linear program\n",
    "\n",
    "\n",
    "---\n",
    "\n",
    "Inspired from [a JuMP tutorial](https://jump.dev/JuMP.jl/v1.10.0/tutorials/linear/lp_sensitivity/)"
   ],
   "metadata": {}
  },
  {
   "cell_type": "markdown",
   "source": [
    "In this practical session, we explain the sensitivity interpretation of dual values using the `lp_sensitivity_report` function."
   ],
   "metadata": {}
  },
  {
   "cell_type": "markdown",
   "source": [
    "In brief, sensitivity analysis of a linear program is about asking two\n",
    "questions:\n",
    " 1) Given an optimal solution, how much can I change the objective\n",
    "    coefficients before a different solution becomes optimal?\n",
    " 2) Given an optimal solution, how much can I change the right-hand side of a\n",
    "    linear constraint before a different solution becomes optimal?"
   ],
   "metadata": {}
  },
  {
   "cell_type": "markdown",
   "source": [
    "JuMP provides a function, `lp_sensitivity_report`, to help us compute\n",
    "these values, but this tutorial extends that to create more informative\n",
    "tables in the form of a `DataFrame`."
   ],
   "metadata": {}
  },
  {
   "cell_type": "markdown",
   "source": [
    "## Setup"
   ],
   "metadata": {}
  },
  {
   "cell_type": "markdown",
   "source": [
    "This tutorial uses the following packages:"
   ],
   "metadata": {}
  },
  {
   "outputs": [],
   "cell_type": "code",
   "source": [
    "using JuMP\n",
    "import HiGHS\n",
    "import DataFrames"
   ],
   "metadata": {},
   "execution_count": null
  },
  {
   "cell_type": "markdown",
   "source": [
    "as well as this small linear program:"
   ],
   "metadata": {}
  },
  {
   "outputs": [],
   "cell_type": "code",
   "source": [
    "model = Model(HiGHS.Optimizer)\n",
    "@variable(model, x >= 0)\n",
    "@variable(model, 0 <= y <= 3)\n",
    "@variable(model, z <= 1)\n",
    "@objective(model, Min, 12x + 20y - z)\n",
    "@constraint(model, c1, 6x + 8y >= 100)\n",
    "@constraint(model, c2, 7x + 12y >= 120)\n",
    "@constraint(model, c3, x + y <= 20)\n",
    "optimize!(model)\n",
    "solution_summary(model; verbose = true)"
   ],
   "metadata": {},
   "execution_count": null
  },
  {
   "cell_type": "markdown",
   "source": [
    "Can you identify:\n",
    " * The objective coefficient of each variable?\n",
    " * The right-hand side of each constraint?\n",
    " * The optimal primal and dual solutions?"
   ],
   "metadata": {}
  },
  {
   "cell_type": "markdown",
   "source": [
    "## Sensitivity reports"
   ],
   "metadata": {}
  },
  {
   "cell_type": "markdown",
   "source": [
    "Now let's call `lp_sensitivity_report`:"
   ],
   "metadata": {}
  },
  {
   "outputs": [],
   "cell_type": "code",
   "source": [
    "report = lp_sensitivity_report(model)"
   ],
   "metadata": {},
   "execution_count": null
  },
  {
   "cell_type": "markdown",
   "source": [
    "It returns a `SensitivityReport` object, which maps:\n",
    "\n",
    " - Every variable reference to a tuple `(d_lo, d_hi)::Tuple{Float64,Float64}`,\n",
    "   explaining how much the objective coefficient of the corresponding variable\n",
    "   can change by, such that the original basis remains optimal.\n",
    " - Every constraint reference to a tuple `(d_lo, d_hi)::Tuple{Float64,Float64}`,\n",
    "   explaining how much the right-hand side of the corresponding constraint can\n",
    "   change by, such that the basis remains optimal."
   ],
   "metadata": {}
  },
  {
   "cell_type": "markdown",
   "source": [
    "Both tuples are relative, rather than absolute. So, given an objective\n",
    "coefficient of `1.0` and a tuple `(-0.5, 0.5)`, the objective coefficient can\n",
    "range between `1.0 - 0.5` an `1.0 + 0.5`."
   ],
   "metadata": {}
  },
  {
   "cell_type": "markdown",
   "source": [
    "For example:"
   ],
   "metadata": {}
  },
  {
   "outputs": [],
   "cell_type": "code",
   "source": [
    "report[x]"
   ],
   "metadata": {},
   "execution_count": null
  },
  {
   "cell_type": "markdown",
   "source": [
    "indicates that the objective coefficient on `x`, that is, `12`, can\n",
    "decrease by `-0.333` or increase by `3.0` and the primal solution\n",
    "`(15, 1.25)` will remain optimal. In addition:"
   ],
   "metadata": {}
  },
  {
   "outputs": [],
   "cell_type": "code",
   "source": [
    "report[c1]"
   ],
   "metadata": {},
   "execution_count": null
  },
  {
   "cell_type": "markdown",
   "source": [
    "means that the right-hand side of the `c1` constraint (100), can decrease\n",
    "by 4 units, or increase by 2.85 units, aand the primal solution `(15, 1.25)`\n",
    "will remain optimal."
   ],
   "metadata": {}
  },
  {
   "cell_type": "markdown",
   "source": [
    "## Variable sensitivity"
   ],
   "metadata": {}
  },
  {
   "cell_type": "markdown",
   "source": [
    "By themselves, the tuples aren't informative. Let's put them in context by\n",
    "collating a range of other information about a variable:"
   ],
   "metadata": {}
  },
  {
   "outputs": [],
   "cell_type": "code",
   "source": [
    "function variable_report(xi)\n",
    "    return (\n",
    "        name = name(xi),\n",
    "        lower_bound = has_lower_bound(xi) ? lower_bound(xi) : -Inf,\n",
    "        value = value(xi),\n",
    "        upper_bound = has_upper_bound(xi) ? upper_bound(xi) : Inf,\n",
    "        reduced_cost = reduced_cost(xi),\n",
    "        obj_coefficient = coefficient(objective_function(model), xi),\n",
    "        allowed_decrease = report[xi][1],\n",
    "        allowed_increase = report[xi][2],\n",
    "    )\n",
    "end"
   ],
   "metadata": {},
   "execution_count": null
  },
  {
   "cell_type": "markdown",
   "source": [
    "Calling our function on `x`:"
   ],
   "metadata": {}
  },
  {
   "outputs": [],
   "cell_type": "code",
   "source": [
    "x_report = variable_report(x)"
   ],
   "metadata": {},
   "execution_count": null
  },
  {
   "cell_type": "markdown",
   "source": [
    "That's a bit hard to read, so let's call this on every variable in the model\n",
    "and put things into a DataFrame:"
   ],
   "metadata": {}
  },
  {
   "outputs": [],
   "cell_type": "code",
   "source": [
    "variable_df =\n",
    "    DataFrames.DataFrame(variable_report(xi) for xi in all_variables(model))"
   ],
   "metadata": {},
   "execution_count": null
  },
  {
   "cell_type": "markdown",
   "source": [
    "Great! That looks just like the reports in Excel."
   ],
   "metadata": {}
  },
  {
   "cell_type": "markdown",
   "source": [
    "## Constraint sensitivity"
   ],
   "metadata": {}
  },
  {
   "cell_type": "markdown",
   "source": [
    "We can do something similar with constraints:"
   ],
   "metadata": {}
  },
  {
   "outputs": [],
   "cell_type": "code",
   "source": [
    "function constraint_report(ci)\n",
    "    return (\n",
    "        name = name(ci),\n",
    "        value = value(ci),\n",
    "        rhs = normalized_rhs(ci),\n",
    "        slack = normalized_rhs(ci) - value(ci),\n",
    "        shadow_price = shadow_price(ci),\n",
    "        allowed_decrease = report[ci][1],\n",
    "        allowed_increase = report[ci][2],\n",
    "    )\n",
    "end\n",
    "\n",
    "c1_report = constraint_report(c1)"
   ],
   "metadata": {},
   "execution_count": null
  },
  {
   "cell_type": "markdown",
   "source": [
    "That's a bit hard to read, so let's call this on every variable in the model\n",
    "and put things into a DataFrame:"
   ],
   "metadata": {}
  },
  {
   "outputs": [],
   "cell_type": "code",
   "source": [
    "constraint_df = DataFrames.DataFrame(\n",
    "    constraint_report(ci) for (F, S) in list_of_constraint_types(model) for\n",
    "    ci in all_constraints(model, F, S) if F == AffExpr\n",
    ")"
   ],
   "metadata": {},
   "execution_count": null
  },
  {
   "cell_type": "markdown",
   "source": [
    "## Analysis questions"
   ],
   "metadata": {}
  },
  {
   "cell_type": "markdown",
   "source": [
    "Now we can use these dataframes to ask questions of the solution."
   ],
   "metadata": {}
  },
  {
   "cell_type": "markdown",
   "source": [
    "For example, we can find basic variables by looking for variables with a\n",
    "reduced cost of 0:"
   ],
   "metadata": {}
  },
  {
   "outputs": [],
   "cell_type": "code",
   "source": [
    "basic = filter(row -> iszero(row.reduced_cost), variable_df)"
   ],
   "metadata": {},
   "execution_count": null
  },
  {
   "cell_type": "markdown",
   "source": [
    "and non-basic variables by looking for non-zero reduced costs:"
   ],
   "metadata": {}
  },
  {
   "outputs": [],
   "cell_type": "code",
   "source": [
    "non_basic = filter(row -> !iszero(row.reduced_cost), variable_df)"
   ],
   "metadata": {},
   "execution_count": null
  },
  {
   "cell_type": "markdown",
   "source": [
    "we can also find constraints that are binding by looking for zero slacks:"
   ],
   "metadata": {}
  },
  {
   "outputs": [],
   "cell_type": "code",
   "source": [
    "binding = filter(row -> iszero(row.slack), constraint_df)"
   ],
   "metadata": {},
   "execution_count": null
  },
  {
   "cell_type": "markdown",
   "source": [
    "or non-zero shadow prices:"
   ],
   "metadata": {}
  },
  {
   "outputs": [],
   "cell_type": "code",
   "source": [
    "binding2 = filter(row -> !iszero(row.shadow_price), constraint_df)"
   ],
   "metadata": {},
   "execution_count": null
  },
  {
   "cell_type": "markdown",
   "source": [
    "---\n",
    "\n",
    "*This notebook was generated using [Literate.jl](https://github.com/fredrikekre/Literate.jl).*"
   ],
   "metadata": {}
  },
  {
   "cell_type": "markdown",
   "source": [
    "---\n",
    "\n",
    "*This notebook was generated using [Literate.jl](https://github.com/fredrikekre/Literate.jl).*"
   ],
   "metadata": {}
  }
 ],
 "nbformat_minor": 3,
 "metadata": {
  "language_info": {
   "file_extension": ".jl",
   "mimetype": "application/julia",
   "name": "julia",
   "version": "1.11.7"
  },
  "kernelspec": {
   "name": "julia-1.11",
   "display_name": "Julia 1.11.7",
   "language": "julia"
  }
 },
 "nbformat": 4
}
