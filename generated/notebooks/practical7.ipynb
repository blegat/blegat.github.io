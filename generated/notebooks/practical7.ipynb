{
 "cells": [
  {
   "cell_type": "markdown",
   "source": [
    "# Practical 7 &ndash; Logic and Scheduling\n",
    "\n",
    "\n",
    "---\n",
    "\n",
    "In this session, we'll first get a glimpse at a few truth function of binary variables. We will then solve a scheduling problem with `Julia` and `JuMP`."
   ],
   "metadata": {}
  },
  {
   "cell_type": "markdown",
   "source": [
    "## Truth table\n",
    "\n",
    "Let a and b be binary variables (remember that 0 = False and 1 = True),\n",
    "\n",
    "$$\n",
    "\\begin{array}{|c|c|c|c|c|c|c|c|c|c|}\n",
    "\\hline\n",
    "a & b & a \\Rightarrow b & b \\Rightarrow a & a \\& b & a | b & a \\le b & a \\ge b & a + b \\ge 2 & a + b \\ge 1\\\\\n",
    "\\hline\n",
    "1 & 0 & 0 & 1 & 0 & 1 & 0 & 1 & 0 & 1\\\\\n",
    "0 & 1 & 1 & 0 & 0 & 1 & 1 & 0 & 0 & 1\\\\\n",
    "1 & 1 & 1 & 1 & 1 & 1 & 1 & 1 & 1 & 1\\\\\n",
    "0 & 0 & 1 & 1 & 0 & 0 & 1 & 1 & 0 & 0\\\\\n",
    "\\hline\n",
    "\\end{array}\n",
    "$$\n",
    "\n",
    "Find more info on https://en.wikipedia.org/wiki/Truth_table."
   ],
   "metadata": {}
  },
  {
   "cell_type": "markdown",
   "source": [
    "## Scheduling\n",
    "\n",
    "You want to schedule tasks for workers.\n",
    "Completing these tasks requires resources and time.\n",
    "Furthermore, some tasks cannot be undertaken until others have been addressed.\n",
    "\n",
    "Let M be the number of tasks,\n",
    "N the number of wrokers available,\n",
    "R the ressources necessary to complete each task,\n",
    "and T the number of time steps to complete a maximum of those tasks.\n",
    "\n",
    "A worker can handle at most one task at each time step.\n",
    "A task can be undertaken by a certain worker only if the tasks on which it depends have been previsouly completed by the same worker.\n",
    "Each task can be completed in one time step.\n",
    "Finally, each ressource can be used at most once in each time step.\n",
    "\n",
    "Let's write the problem,\n",
    "\n",
    "* $M$ tasks\n",
    "* Dependency graph: task $i$ requires tasks $j_1, \\ldots, j_k$ to be completed before by the same worker before being undertaken"
   ],
   "metadata": {}
  },
  {
   "outputs": [],
   "cell_type": "code",
   "source": [
    "dependency = [\n",
    "    [4, 5], # Tasks 4 and 5 must be completed before task 1\n",
    "    [8],\n",
    "    [10],\n",
    "    [6],\n",
    "    [6],\n",
    "    [7],\n",
    "    Int[], # Nothing needs to be done beforehand\n",
    "    [9],\n",
    "    Int[],\n",
    "    Int[],\n",
    "]\n",
    "M = length(dependency)"
   ],
   "metadata": {},
   "execution_count": null
  },
  {
   "cell_type": "markdown",
   "source": [
    "* $R$ resources\n",
    "* Task $i$ requires using resources $r_1, \\ldots, r_k$ to be completed"
   ],
   "metadata": {}
  },
  {
   "outputs": [],
   "cell_type": "code",
   "source": [
    "R = 5\n",
    "resources = [\n",
    "    [1, 2], # Task 1 requires using ressources 1 and 2\n",
    "    [2, 3],\n",
    "    [1, 4],\n",
    "    [2, 5],\n",
    "    [5],\n",
    "    [3],\n",
    "    [2, 5],\n",
    "    [1, 3],\n",
    "    [3, 4],\n",
    "    [1, 2, 3],\n",
    "]"
   ],
   "metadata": {},
   "execution_count": null
  },
  {
   "cell_type": "markdown",
   "source": [
    "* Number of workers $N$\n",
    "* Number of time steps $T$"
   ],
   "metadata": {}
  },
  {
   "outputs": [],
   "cell_type": "code",
   "source": [
    "N = 2\n",
    "T = 5;\n",
    "\n",
    "using JuMP\n",
    "using HiGHS\n",
    "model = Model(HiGHS.Optimizer)\n",
    "@variable(model, x[1:N, 1:T, 1:M], Bin) # N workers, T time steps, M tasks ;"
   ],
   "metadata": {},
   "execution_count": null
  },
  {
   "cell_type": "markdown",
   "source": [
    "x[n,t,m] = 1 if task completed, else 0"
   ],
   "metadata": {}
  },
  {
   "cell_type": "markdown",
   "source": [
    "Each worker should work on one task at once and at most at each time step"
   ],
   "metadata": {}
  },
  {
   "outputs": [],
   "cell_type": "code",
   "source": [
    "@constraint(model, [w in 1:N, t in 1:T], sum(x[w, t, :]) <= 1)"
   ],
   "metadata": {},
   "execution_count": null
  },
  {
   "cell_type": "markdown",
   "source": [
    "Each task must be done at most once"
   ],
   "metadata": {}
  },
  {
   "outputs": [],
   "cell_type": "code",
   "source": [
    "@constraint(model, [i in 1:M], sum(x[:, :, i]) <= 1)"
   ],
   "metadata": {},
   "execution_count": null
  },
  {
   "cell_type": "markdown",
   "source": [
    "Dependency: for each worker, the task depended on must be done before undertaking the task at hand"
   ],
   "metadata": {}
  },
  {
   "outputs": [],
   "cell_type": "code",
   "source": [
    "for j in dependency[i] # and for each task j that must be completed before worker w can undertake task i\n",
    "    @constraint(\n",
    "        model,\n",
    "        [w in 1:N, t in 1:T],\n",
    "        sum(x[w, t, i]) <= sum(x[w, 1:(t-1), j])\n",
    "    )\n",
    "end"
   ],
   "metadata": {},
   "execution_count": null
  },
  {
   "cell_type": "markdown",
   "source": [
    "Each resource can be used at most once at each time step"
   ],
   "metadata": {}
  },
  {
   "outputs": [],
   "cell_type": "code",
   "source": [
    "for i in 1:M # For each task i\n",
    "    for r in resources[i] # and for each resource needed to complete task i\n",
    "        @constraint(\n",
    "            model,\n",
    "            [t in 1:T, r in 1:R],\n",
    "            sum(x[w, t, i] for w in 1:N for i in 1:M if r in resources[i]) <= 1,\n",
    "        )\n",
    "    end\n",
    "end"
   ],
   "metadata": {},
   "execution_count": null
  },
  {
   "cell_type": "markdown",
   "source": [
    "Now let's maximize the number of tasks completed with the time and ressources available"
   ],
   "metadata": {}
  },
  {
   "outputs": [],
   "cell_type": "code",
   "source": [
    "@objective(model, Max, sum(x));\n",
    "\n",
    "optimize!(model)\n",
    "\n",
    "solution_summary(model)\n",
    "\n",
    "function extract(x)\n",
    "    for t in 1:T\n",
    "        println(\"At time $t:\")\n",
    "        for w in 1:N\n",
    "            for i in 1:M\n",
    "                if x[w, t, i] > 0.5\n",
    "                    println(\"  worker $w does task $i (uses resources $(resources[i]), requires $(dependency[i]))\")\n",
    "                end\n",
    "            end\n",
    "        end\n",
    "    end\n",
    "end\n",
    "\n",
    "extract(value.(x))"
   ],
   "metadata": {},
   "execution_count": null
  },
  {
   "cell_type": "markdown",
   "source": [
    "---\n",
    "\n",
    "*This notebook was generated using [Literate.jl](https://github.com/fredrikekre/Literate.jl).*"
   ],
   "metadata": {}
  }
 ],
 "nbformat_minor": 3,
 "metadata": {
  "language_info": {
   "file_extension": ".jl",
   "mimetype": "application/julia",
   "name": "julia",
   "version": "1.12.1"
  },
  "kernelspec": {
   "name": "julia-1.12",
   "display_name": "Julia 1.12.1",
   "language": "julia"
  }
 },
 "nbformat": 4
}