{
 "cells": [
  {
   "cell_type": "markdown",
   "source": [
    "# Lecture 1 &ndash; System of linear equations\n",
    "\n",
    "\n",
    "---\n",
    "\n",
    "Find $x_1, x_2, x_3$ such that:\n",
    "$$\n",
    "\\begin{alignat*}{7}\n",
    " 3x_1 &&\\; + \\;&& 2x_2 &&\\; - \\;&&  x_3 &&\\; = \\;&& 1 & \\\\\n",
    " 2x_1 &&\\; - \\;&& 2x_2 &&\\; + \\;&& 4x_3 &&\\; = \\;&& -2 & \\\\\n",
    "-2x_1 &&\\; + \\;&& 1x_2 &&\\; - \\;&& 2x_3 &&\\; = \\;&& 0 &\n",
    "\\end{alignat*}\n",
    "$$"
   ],
   "metadata": {}
  },
  {
   "outputs": [],
   "cell_type": "code",
   "source": [
    "A = [\n",
    "     3  2 -1\n",
    "    -2 -2  4\n",
    "    -2  1 -2\n",
    "]\n",
    "\n",
    "A * b\n",
    "\n",
    "b = [1, -2, 0]"
   ],
   "metadata": {},
   "execution_count": null
  },
  {
   "cell_type": "markdown",
   "source": [
    "## Symbolic approach"
   ],
   "metadata": {}
  },
  {
   "outputs": [],
   "cell_type": "code",
   "source": [
    "using RowEchelon\n",
    "rref([A b])"
   ],
   "metadata": {},
   "execution_count": null
  },
  {
   "cell_type": "markdown",
   "source": [
    "*Symbolic* as amenable to exact arithmetic:"
   ],
   "metadata": {}
  },
  {
   "outputs": [],
   "cell_type": "code",
   "source": [
    "rref(Rational{Int}.([A b]))"
   ],
   "metadata": {},
   "execution_count": null
  },
  {
   "cell_type": "markdown",
   "source": [
    "### How does it work ?"
   ],
   "metadata": {}
  },
  {
   "outputs": [],
   "cell_type": "code",
   "source": [
    "Ab = Float64[A b]\n",
    "Ab[1, :] /= Ab[1, 1]\n",
    "Ab\n",
    "\n",
    "Ab[2, :] -= Ab[2, 1] * Ab[1, :]\n",
    "Ab[3, :] -= Ab[3, 1] * Ab[1, :]\n",
    "Ab\n",
    "\n",
    "Ab[2, :] /= Ab[2, 2]\n",
    "Ab\n",
    "\n",
    "Ab[3, :] -= Ab[3, 2] * Ab[2, :]\n",
    "Ab[1, :] -= Ab[1, 2] * Ab[2, :]\n",
    "Ab\n",
    "\n",
    "Ab[3, :] /= Ab[3, 3]\n",
    "Ab\n",
    "\n",
    "Ab[1, :] -= Ab[1, 3] * Ab[3, :]\n",
    "Ab[2, :] -= Ab[2, 3] * Ab[3, :]\n",
    "Ab\n",
    "\n",
    "function row_echelon!(A)\n",
    "    for col in axes(A, 1)\n",
    "        A[col, :] /= A[col, col]\n",
    "        for row in axes(A, 1)\n",
    "            if row != col\n",
    "                A[row, :] -= A[row, col] * A[col, :]\n",
    "            end\n",
    "        end\n",
    "        display(A)\n",
    "    end\n",
    "end\n",
    "\n",
    "Ab = Float64[A b]\n",
    "row_echelon!(Ab)\n",
    "row_echelon!(Ab + 0.1*rand(size(Ab)...))"
   ],
   "metadata": {},
   "execution_count": null
  },
  {
   "cell_type": "markdown",
   "source": [
    "https://en.wikipedia.org/wiki/Double-precision_floating-point_format"
   ],
   "metadata": {}
  },
  {
   "cell_type": "markdown",
   "source": [
    "https://en.wikipedia.org/wiki/Zeno%27s_paradoxes"
   ],
   "metadata": {}
  },
  {
   "outputs": [],
   "cell_type": "code",
   "source": [
    "num = 1.0\n",
    "while num > 0\n",
    "    @show num\n",
    "    num /= 2\n",
    "end"
   ],
   "metadata": {},
   "execution_count": null
  },
  {
   "cell_type": "markdown",
   "source": [
    "### Tricky example"
   ],
   "metadata": {}
  },
  {
   "cell_type": "markdown",
   "source": [
    "Find $x_1, x_2, x_3$ such that:\n",
    "$$\n",
    "\\begin{alignat*}{7}\n",
    " x_1 &&\\; + \\;&& x_2 &&\\; = \\;&& 2 & \\\\\n",
    " x_1 &&\\; - \\;&& x_2 &&\\; = \\;&& 0 & \\\\\n",
    "\\end{alignat*}\n",
    "$$"
   ],
   "metadata": {}
  },
  {
   "outputs": [],
   "cell_type": "code",
   "source": [
    "ε = 2e-10\n",
    "\n",
    "A = [\n",
    "    1  1   -1\n",
    "    1  1+ε  1\n",
    "    1 -1    1\n",
    "]\n",
    "\n",
    "b = [2, 0, 1]\n",
    "\n",
    "Ab = [A b]"
   ],
   "metadata": {},
   "execution_count": null
  },
  {
   "cell_type": "markdown",
   "source": [
    "#### First column"
   ],
   "metadata": {}
  },
  {
   "outputs": [],
   "cell_type": "code",
   "source": [
    "Ab[2, :] -= Ab[1, :]\n",
    "Ab[3, :] -= Ab[1, :]\n",
    "Ab"
   ],
   "metadata": {},
   "execution_count": null
  },
  {
   "cell_type": "markdown",
   "source": [
    "#### Second column"
   ],
   "metadata": {}
  },
  {
   "outputs": [],
   "cell_type": "code",
   "source": [
    "Ab[2, :] /= Ab[2, 2]\n",
    "Ab\n",
    "\n",
    "Ab[1, :] -= Ab[2, :]\n",
    "Ab[3, :] += 2Ab[2, :]\n",
    "Ab"
   ],
   "metadata": {},
   "execution_count": null
  },
  {
   "cell_type": "markdown",
   "source": [
    "#### Third column"
   ],
   "metadata": {}
  },
  {
   "outputs": [],
   "cell_type": "code",
   "source": [
    "Ab[3, :] /= Ab[3, 3]\n",
    "Ab\n",
    "\n",
    "Ab[1, :] -= Ab[1, 3] * Ab[3, :]\n",
    "Ab[2, :] -= Ab[2, 3] * Ab[3, :]\n",
    "Ab"
   ],
   "metadata": {},
   "execution_count": null
  },
  {
   "cell_type": "markdown",
   "source": [
    "## Numerical approach"
   ],
   "metadata": {}
  },
  {
   "outputs": [],
   "cell_type": "code",
   "source": [
    "distance = 16\n",
    "while distance > 0\n",
    "    @show distance\n",
    "    distance /= 2\n",
    "end\n",
    "\n",
    "A \\ b\n",
    "\n",
    "ε = 0.0001\n",
    "(A + ε * rand(size(A)...)) \\ (b + ε * rand(size(b)...))"
   ],
   "metadata": {},
   "execution_count": null
  },
  {
   "cell_type": "markdown",
   "source": [
    "# Overdetermined system\n",
    "\n",
    "Find $x_1, x_2$ such that:\n",
    "$$\n",
    "\\begin{alignat*}{7}\n",
    " 3x_1 &&\\; + \\;&& 2x_2  &&\\; = \\;&& 1 & \\\\\n",
    " 2x_1 &&\\; - \\;&& 2x_2  &&\\; = \\;&& -2 & \\\\\n",
    "-2x_1 &&\\; + \\;&& 1x_2 &&\\; = \\;&& 0 &\n",
    "\\end{alignat*}\n",
    "$$"
   ],
   "metadata": {}
  },
  {
   "outputs": [],
   "cell_type": "code",
   "source": [
    "B = A[:, 1:2]\n",
    "\n",
    "using RowEchelon\n",
    "rref([B b])"
   ],
   "metadata": {},
   "execution_count": null
  },
  {
   "cell_type": "markdown",
   "source": [
    "This gives the system\n",
    "$$\n",
    "\\begin{alignat*}{7}\n",
    "x_1 &&\\;  \\;&&     &&\\; = \\;&& 0 & \\\\\n",
    "    &&\\;  \\;&& x_2 &&\\; = \\;&& 0 & \\\\\n",
    "    &&\\;  \\;&&     &&\\; = \\;&& 1 & \\\\\n",
    "\\end{alignat*}\n",
    "$$\n",
    "The system has no solution."
   ],
   "metadata": {}
  },
  {
   "outputs": [],
   "cell_type": "code",
   "source": [
    "x = B \\ b\n",
    "\n",
    "e = B * x - b"
   ],
   "metadata": {},
   "execution_count": null
  },
  {
   "cell_type": "markdown",
   "source": [
    "The system has no solution.\n",
    "We want to minimize the error $e$ : *multi-objective optimization*.\n",
    "Reduce to one objective with sum of squares.\n",
    "$$\n",
    "\\begin{aligned}\n",
    "\\min_{x_1,x_2} & \\, e_1^2 + e_2^2 + e_3^2\\\\\n",
    "\\text{s.t. }e = & \\, Bx - b\n",
    "\\end{aligned}\n",
    "$$\n",
    "\n",
    "In general, $B \\in \\mathbb{R}^{m \\times n}$, $b \\in \\mathbb{R}^m$:\n",
    "$$\n",
    "\\begin{aligned}\n",
    "\\min_{x \\in \\mathbb{R}^n} & \\|Bx - b\\|_2^2\n",
    "\\end{aligned}\n",
    "$$\n",
    "where $\\|e\\|_2^2 = e_1^2 + e_2^2 + \\cdots e_m^2$ is the *Euclidean norm*.\n",
    "\n",
    "*Unconstrained* mathematical optimization program:\n",
    "\n",
    "* *Decision variables*: $x \\in \\mathbb{R}^n$\n",
    "* *Objective function*: $\\|Bx - b\\|_2$\n",
    "\n",
    "Optimal solution: solution of $B^\\top B x = B^\\top b$. If $B^\\top B$ is invertible, $x = (B^\\top B)^{-1} B^\\top b$."
   ],
   "metadata": {}
  },
  {
   "outputs": [],
   "cell_type": "code",
   "source": [
    "B' * e\n",
    "\n",
    "(B' * B) \\ B' * b"
   ],
   "metadata": {},
   "execution_count": null
  },
  {
   "cell_type": "markdown",
   "source": [
    "# Underdetermined system\n",
    "\n",
    "Find $x_1, x_2, x_3$ such that:\n",
    "$$\n",
    "\\begin{alignat*}{7}\n",
    "3x_1 &&\\; + \\;&& 2x_2 &&\\; - \\;&&  x_3 &&\\; = \\;&& 1 & \\\\\n",
    "2x_1 &&\\; - \\;&& 2x_2 &&\\; + \\;&& 4x_3 &&\\; = \\;&& -2 & \\\\\n",
    "\\end{alignat*}\n",
    "$$"
   ],
   "metadata": {}
  },
  {
   "outputs": [],
   "cell_type": "code",
   "source": [
    "C = A[1:2, :]\n",
    "\n",
    "c = b[1:2]\n",
    "\n",
    "using RowEchelon\n",
    "rref([C c])"
   ],
   "metadata": {},
   "execution_count": null
  },
  {
   "cell_type": "markdown",
   "source": [
    "This gives the system\n",
    "$$\n",
    "\\begin{alignat*}{7}\n",
    "x_1 &&\\;  \\;&&  &&\\; + \\;&&  0.6x_3 &&\\; = \\;&& -0.2 & \\\\\n",
    " &&\\;  \\;&& x_2 &&\\; - \\;&& 1.4x_3 &&\\; = \\;&& 0.8 & \\\\\n",
    "\\end{alignat*}\n",
    "$$\n",
    "The system has infinitely solutions: It has a solution $(-0.2 - 0.6x_3, 0.8 + 1.4x_3)$ for any $x_3$."
   ],
   "metadata": {}
  },
  {
   "outputs": [],
   "cell_type": "code",
   "source": [
    "x = C \\ c\n",
    "\n",
    "C * x - c"
   ],
   "metadata": {},
   "execution_count": null
  },
  {
   "cell_type": "markdown",
   "source": [
    "Suppose we want to minimize $\\|x\\|_2$:\n",
    "$$\n",
    "\\begin{aligned}\n",
    "\\min_{x \\in \\mathbb{R}^n}& \\|x\\|_2\\\\\n",
    "\\text{s.t. }Cx & = c\n",
    "\\end{aligned}\n",
    "$$\n",
    "\n",
    "Mathematical optimization program:\n",
    "\n",
    "* *Decision variables*: $x \\in \\mathbb{R}^n$\n",
    "* *Objective function*: $\\|x\\|_2$\n",
    "* *Constraints*: $Cx = c$\n",
    "\n",
    "Optimal solution: $x = C^\\top \\lambda$ where $\\lambda$ is a solution of $CC^\\top \\lambda = c$.\n",
    "If $CC^\\top$ is invertible, $x = C^\\top (CC^\\top)^{-1} c$."
   ],
   "metadata": {}
  },
  {
   "outputs": [],
   "cell_type": "code",
   "source": [
    "C \\ c\n",
    "\n",
    "C' * ((C * C') \\ c)"
   ],
   "metadata": {},
   "execution_count": null
  },
  {
   "cell_type": "markdown",
   "source": [
    "---\n",
    "\n",
    "*This notebook was generated using [Literate.jl](https://github.com/fredrikekre/Literate.jl).*"
   ],
   "metadata": {}
  }
 ],
 "nbformat_minor": 3,
 "metadata": {
  "language_info": {
   "file_extension": ".jl",
   "mimetype": "application/julia",
   "name": "julia",
   "version": "1.11.7"
  },
  "kernelspec": {
   "name": "julia-1.11",
   "display_name": "Julia 1.11.7",
   "language": "julia"
  }
 },
 "nbformat": 4
}
