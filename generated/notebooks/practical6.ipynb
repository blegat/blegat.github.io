{
 "cells": [
  {
   "cell_type": "markdown",
   "source": [
    "# Practical 6 &ndash; Sudoku\n",
    "\n",
    "\n",
    "---\n",
    "\n",
    "Inspired from [a JuMP tutorial](https://jump.dev/JuMP.jl/v1.10.0/tutorials/linear/sudoku)"
   ],
   "metadata": {}
  },
  {
   "outputs": [],
   "cell_type": "code",
   "source": [
    "using JuMP\n",
    "using HiGHS"
   ],
   "metadata": {},
   "execution_count": null
  },
  {
   "cell_type": "markdown",
   "source": [
    "# Sudoku"
   ],
   "metadata": {}
  },
  {
   "outputs": [],
   "cell_type": "code",
   "source": [
    "init_sol = [\n",
    "    5 3 0 0 7 0 0 0 0\n",
    "    6 0 0 1 9 5 0 0 0\n",
    "    0 9 8 0 0 0 0 6 0\n",
    "    8 0 0 0 6 0 0 0 3\n",
    "    4 0 0 8 0 3 0 0 1\n",
    "    7 0 0 0 2 0 0 0 6\n",
    "    0 6 0 0 0 0 2 8 0\n",
    "    0 0 0 4 1 9 0 0 5\n",
    "    0 0 0 0 8 0 0 7 9\n",
    "]"
   ],
   "metadata": {},
   "execution_count": null
  },
  {
   "cell_type": "markdown",
   "source": [
    "## Integer variables"
   ],
   "metadata": {}
  },
  {
   "outputs": [],
   "cell_type": "code",
   "source": [
    "model = Model(HiGHS.Optimizer)\n",
    "@variable(model, 1 <= x[row in 1:9, col in 1:9] <= 9, Int)\n",
    "\n",
    "optimize!(model)\n",
    "termination_status(model)\n",
    "\n",
    "solve_time(model)\n",
    "\n",
    "value.(x)\n",
    "\n",
    "for row in 1:9\n",
    "    for col in 1:9\n",
    "        value = init_sol[row, col]\n",
    "        if value != 0\n",
    "            fix(x[row, col], value, force = true)\n",
    "        end\n",
    "    end\n",
    "end\n",
    "\n",
    "@variable(model, which_one_should_be_satisfied, Bin)\n",
    "@constraint(model, x[1, 3] - x[1, 4] >= 1 - (1 - which_one_should_be_satisfied) * 10000000)\n",
    "@constraint(model, -(x[1, 3] - x[1, 4]) >= 1 - which_one_should_be_satisfied * 10000000)\n",
    "\n",
    "function constraint_alldifferent(x::Vector)\n",
    "    @assert length(x) == 9\n",
    "    for i in 1:9\n",
    "        for j in 1:9\n",
    "            if i != j\n",
    "                # @constraint(model, abs(x[i] - x[j]) >= 1)\n",
    "                positive = @variable(model, binary = true)\n",
    "                # @constraint(model, positive => {x[i] - x[j] >= 1})\n",
    "                # Big-M\n",
    "                M = 9\n",
    "                @constraint(model, x[i] - x[j] >= 1 - M * (1 - positive))\n",
    "                # @constraint(model, !positive => {-(x[i] - x[j]) >= 1})\n",
    "                @constraint(model, x[j] - x[i] >= 1 - M * positive)\n",
    "            end\n",
    "        end\n",
    "    end\n",
    "end\n",
    "\n",
    "for row in 1:9\n",
    "    constraint_alldifferent(x[row, :])\n",
    "end\n",
    "\n",
    "for col in 1:9\n",
    "    constraint_alldifferent(x[:, col])\n",
    "end\n",
    "\n",
    "for shift_row in 0:3:6\n",
    "    for shift_col in 0:3:6\n",
    "        constraint_alldifferent(vec(x[shift_row .+ (1:3), shift_col .+ (1:3)]))\n",
    "    end\n",
    "end\n",
    "\n",
    "num_variables(model)\n",
    "\n",
    "optimize!(model)\n",
    "\n",
    "solution_summary(model)\n",
    "\n",
    "value.(x)"
   ],
   "metadata": {},
   "execution_count": null
  },
  {
   "cell_type": "markdown",
   "source": [
    "# With Binary variables"
   ],
   "metadata": {}
  },
  {
   "outputs": [],
   "cell_type": "code",
   "source": [
    "model = Model(HiGHS.Optimizer)\n",
    "\n",
    "@variable(model, y[row = 1:9, col = 1:9, num = 1:9], Bin);\n",
    "\n",
    "for row in 1:9\n",
    "    for col in 1:9\n",
    "        if init_sol[row, col] != 0\n",
    "            for num in 1:9\n",
    "                if num == init_sol[row, col]\n",
    "                    fix(y[row, col, num], 1, force = true)\n",
    "                else\n",
    "                    fix(y[row, col, num], 0, force = true)\n",
    "                end\n",
    "            end\n",
    "        end\n",
    "    end\n",
    "end\n",
    "\n",
    "@constraint(model, [row in 1:9, col in 1:9], sum(y[row, col, :]) == 1);\n",
    "\n",
    "@constraint(model, [row in 1:9, num in 1:9], sum(y[row, :, num]) == 1);\n",
    "\n",
    "@constraint(model, [col in 1:9, num in 1:9], sum(y[row, col, num] for row in 1:9) == 1);\n",
    "\n",
    "@constraint(\n",
    "    model,\n",
    "    [row_shift in 0:3:6, col_shift in 0:3:6, num in 1:9],\n",
    "    sum(y[row_shift + row, col_shift + col, num] for row in 1:3, col in 1:3) == 1,\n",
    ");\n",
    "\n",
    "optimize!(model)\n",
    "\n",
    "solution_summary(model)\n",
    "\n",
    "num_variables(model)\n",
    "\n",
    "function extract(x)\n",
    "    nums = zeros(Int, 9, 9)\n",
    "    for col in 1:9\n",
    "        for row in 1:9\n",
    "            for num in 1:9\n",
    "                if x[row, col, num] > 0.5\n",
    "                    if nums[row, col] != 0\n",
    "                        error(\"Cell ($row, $col) cannot be both $(nums[row, col]) and $num\")\n",
    "                    end\n",
    "                    nums[row, col] = num\n",
    "                end\n",
    "            end\n",
    "        end\n",
    "    end\n",
    "    return nums\n",
    "end\n",
    "\n",
    "extract(value.(y))"
   ],
   "metadata": {},
   "execution_count": null
  },
  {
   "cell_type": "markdown",
   "source": [
    "---\n",
    "\n",
    "*This notebook was generated using [Literate.jl](https://github.com/fredrikekre/Literate.jl).*"
   ],
   "metadata": {}
  }
 ],
 "nbformat_minor": 3,
 "metadata": {
  "language_info": {
   "file_extension": ".jl",
   "mimetype": "application/julia",
   "name": "julia",
   "version": "1.11.7"
  },
  "kernelspec": {
   "name": "julia-1.11",
   "display_name": "Julia 1.11.7",
   "language": "julia"
  }
 },
 "nbformat": 4
}
