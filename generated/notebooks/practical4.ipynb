{
 "cells": [
  {
   "cell_type": "markdown",
   "source": [
    "# Practical 4 &ndash; Mixed-Integer Linear Programming in JuMP: The facility location problem\n",
    "\n",
    "\n",
    "---\n",
    "\n",
    "Inspired from [a JuMP tutorial](https://jump.dev/JuMP.jl/v1.10.0/tutorials/linear/facility_location/)"
   ],
   "metadata": {}
  },
  {
   "outputs": [],
   "cell_type": "code",
   "source": [
    "using JuMP\n",
    "import HiGHS\n",
    "import LinearAlgebra\n",
    "import Plots\n",
    "import Random"
   ],
   "metadata": {},
   "execution_count": null
  },
  {
   "cell_type": "markdown",
   "source": [
    "## Uncapacitated facility location\n",
    "\n",
    "### Problem description\n",
    "\n",
    "We are given\n",
    "* A set $M=\\{1, \\dots, m\\}$ of clients\n",
    "* A set $N=\\{ 1, \\dots, n\\}$ of sites where a facility can be built\n",
    "\n",
    "**Decision variables**\n",
    "Decision variables are split into two categories:\n",
    "* Binary variable $y_{j}$ indicates whether facility $j$ is built or not\n",
    "* Binary variable $x_{i, j}$ indicates whether client $i$ is assigned to facility $j$\n",
    "\n",
    "**Objective**\n",
    "The objective is to minimize the total cost of serving all clients.\n",
    "This costs breaks down into two components:\n",
    "* Fixed cost of building a facility.\n",
    "In this example, this cost is $f_{j} = 1, \\ \\forall j$.\n",
    "* Cost of serving clients from the assigned facility.\n",
    "In this example, the cost $c_{i, j}$\n",
    "of serving client $i$ from facility $j$\n",
    "is the Euclidean distance between the two.\n",
    "\n",
    "**Constraints**\n",
    "* Each customer must be served by exactly one facility\n",
    "* A facility cannot serve any client unless it is open\n",
    "\n",
    "### MILP formulation\n",
    "\n",
    "The problem can be formulated as the following MILP:\n",
    "\n",
    "$$\n",
    "\\begin{aligned}\n",
    "\\min_{x, y} \\ \\ \\ &\n",
    "\\sum_{i, j} c_{i, j} x_{i, j} +\n",
    "\\sum_{j} f_{j} y_{j} \\\\\n",
    "s.t. &\n",
    "\\sum_{j} x_{i, j} = 1, && \\forall i \\in M \\\\\n",
    "& x_{i, j} \\leq y_{j}, && \\forall i \\in M, j \\in N \\\\\n",
    "& x_{i, j}, y_{j} \\in \\{0, 1\\}, && \\forall i \\in M, j \\in N\n",
    "\\end{aligned}\n",
    "$$\n",
    "\n",
    "where the first set of constraints ensures\n",
    "that each client is served exactly once,\n",
    "and the second set of constraints ensures\n",
    "that no client is served from an unopened facility.\n",
    "\n",
    "### Problem data"
   ],
   "metadata": {}
  },
  {
   "outputs": [],
   "cell_type": "code",
   "source": [
    "Random.seed!(314)"
   ],
   "metadata": {},
   "execution_count": null
  },
  {
   "cell_type": "markdown",
   "source": [
    "number of clients"
   ],
   "metadata": {}
  },
  {
   "outputs": [],
   "cell_type": "code",
   "source": [
    "m = 12"
   ],
   "metadata": {},
   "execution_count": null
  },
  {
   "cell_type": "markdown",
   "source": [
    "number of facility locations"
   ],
   "metadata": {}
  },
  {
   "outputs": [],
   "cell_type": "code",
   "source": [
    "n = 5"
   ],
   "metadata": {},
   "execution_count": null
  },
  {
   "cell_type": "markdown",
   "source": [
    "Clients' locations"
   ],
   "metadata": {}
  },
  {
   "outputs": [],
   "cell_type": "code",
   "source": [
    "Xc = rand(m)\n",
    "Yc = rand(m)"
   ],
   "metadata": {},
   "execution_count": null
  },
  {
   "cell_type": "markdown",
   "source": [
    "Facilities' potential locations"
   ],
   "metadata": {}
  },
  {
   "outputs": [],
   "cell_type": "code",
   "source": [
    "Xf = rand(n)\n",
    "Yf = rand(n)"
   ],
   "metadata": {},
   "execution_count": null
  },
  {
   "cell_type": "markdown",
   "source": [
    "Fixed costs"
   ],
   "metadata": {}
  },
  {
   "outputs": [],
   "cell_type": "code",
   "source": [
    "f = ones(n);"
   ],
   "metadata": {},
   "execution_count": null
  },
  {
   "cell_type": "markdown",
   "source": [
    "Distance"
   ],
   "metadata": {}
  },
  {
   "outputs": [],
   "cell_type": "code",
   "source": [
    "c = zeros(m, n)\n",
    "for i in 1:m\n",
    "    for j in 1:n\n",
    "        c[i, j] = LinearAlgebra.norm([Xc[i] - Xf[j], Yc[i] - Yf[j]], 2)\n",
    "    end\n",
    "end"
   ],
   "metadata": {},
   "execution_count": null
  },
  {
   "cell_type": "markdown",
   "source": [
    "Display the data"
   ],
   "metadata": {}
  },
  {
   "outputs": [],
   "cell_type": "code",
   "source": [
    "Plots.scatter(\n",
    "    Xc,\n",
    "    Yc,\n",
    "    label = \"Clients\",\n",
    "    markershape = :circle,\n",
    "    markercolor = :blue,\n",
    ")\n",
    "Plots.scatter!(\n",
    "    Xf,\n",
    "    Yf,\n",
    "    label = \"Facility\",\n",
    "    markershape = :square,\n",
    "    markercolor = :white,\n",
    "    markersize = 6,\n",
    "    markerstrokecolor = :red,\n",
    "    markerstrokewidth = 2,\n",
    ")"
   ],
   "metadata": {},
   "execution_count": null
  },
  {
   "cell_type": "markdown",
   "source": [
    "### JuMP implementation\n",
    "\n",
    "\n",
    "Create a JuMP model"
   ],
   "metadata": {}
  },
  {
   "outputs": [],
   "cell_type": "code",
   "source": [
    "ufl = Model(HiGHS.Optimizer)"
   ],
   "metadata": {},
   "execution_count": null
  },
  {
   "cell_type": "markdown",
   "source": [
    "Variables"
   ],
   "metadata": {}
  },
  {
   "outputs": [],
   "cell_type": "code",
   "source": [
    "@variable(ufl, y[1:n], Bin);\n",
    "@variable(ufl, x[1:m, 1:n], Bin);"
   ],
   "metadata": {},
   "execution_count": null
  },
  {
   "cell_type": "markdown",
   "source": [
    "Each client is served exactly once"
   ],
   "metadata": {}
  },
  {
   "outputs": [],
   "cell_type": "code",
   "source": [
    "@constraint(ufl, client_service[i in 1:m], sum(x[i, j] for j in 1:n) == 1);"
   ],
   "metadata": {},
   "execution_count": null
  },
  {
   "cell_type": "markdown",
   "source": [
    "A facility must be open to serve a client"
   ],
   "metadata": {}
  },
  {
   "outputs": [],
   "cell_type": "code",
   "source": [
    "@constraint(ufl, open_facility[i in 1:m, j in 1:n], x[i, j] <= y[j]);"
   ],
   "metadata": {},
   "execution_count": null
  },
  {
   "cell_type": "markdown",
   "source": [
    "Objective"
   ],
   "metadata": {}
  },
  {
   "outputs": [],
   "cell_type": "code",
   "source": [
    "@objective(ufl, Min, f'y + sum(c .* x));"
   ],
   "metadata": {},
   "execution_count": null
  },
  {
   "cell_type": "markdown",
   "source": [
    "Solve the uncapacitated facility location problem with HiGHS"
   ],
   "metadata": {}
  },
  {
   "outputs": [],
   "cell_type": "code",
   "source": [
    "optimize!(ufl)\n",
    "solution_summary(ufl)"
   ],
   "metadata": {},
   "execution_count": null
  },
  {
   "cell_type": "markdown",
   "source": [
    "### Visualizing the solution"
   ],
   "metadata": {}
  },
  {
   "cell_type": "markdown",
   "source": [
    "The threshold 1e-5 ensure that edges between clients and facilities are drawn when x[i, j] ≈ 1."
   ],
   "metadata": {}
  },
  {
   "outputs": [],
   "cell_type": "code",
   "source": [
    "x_ = value.(x) .> 1 - 1e-5\n",
    "y_ = value.(y) .> 1 - 1e-5"
   ],
   "metadata": {},
   "execution_count": null
  },
  {
   "cell_type": "markdown",
   "source": [
    "Display clients"
   ],
   "metadata": {}
  },
  {
   "outputs": [],
   "cell_type": "code",
   "source": [
    "p = Plots.scatter(\n",
    "    Xc,\n",
    "    Yc,\n",
    "    markershape = :circle,\n",
    "    markercolor = :blue,\n",
    "    label = nothing,\n",
    ")"
   ],
   "metadata": {},
   "execution_count": null
  },
  {
   "cell_type": "markdown",
   "source": [
    "Show open facility"
   ],
   "metadata": {}
  },
  {
   "outputs": [],
   "cell_type": "code",
   "source": [
    "mc = [(y_[j] ? :red : :white) for j in 1:n]\n",
    "Plots.scatter!(\n",
    "    Xf,\n",
    "    Yf,\n",
    "    markershape = :square,\n",
    "    markercolor = mc,\n",
    "    markersize = 6,\n",
    "    markerstrokecolor = :red,\n",
    "    markerstrokewidth = 2,\n",
    "    label = nothing,\n",
    ")"
   ],
   "metadata": {},
   "execution_count": null
  },
  {
   "cell_type": "markdown",
   "source": [
    "Show client-facility assignment"
   ],
   "metadata": {}
  },
  {
   "outputs": [],
   "cell_type": "code",
   "source": [
    "for i in 1:m\n",
    "    for j in 1:n\n",
    "        if x_[i, j] == 1\n",
    "            Plots.plot!(\n",
    "                [Xc[i], Xf[j]],\n",
    "                [Yc[i], Yf[j]],\n",
    "                color = :black,\n",
    "                label = nothing,\n",
    "            )\n",
    "        end\n",
    "    end\n",
    "end\n",
    "\n",
    "p"
   ],
   "metadata": {},
   "execution_count": null
  },
  {
   "cell_type": "markdown",
   "source": [
    "## Homework: Capacitated facility location\n",
    "\n",
    "### Problem formulation\n",
    "\n",
    "The capacitated variant introduces a capacity constraint on each facility, i.e., clients have a certain level of demand to be served, while each facility only has finite capacity which cannot be exceeded.\n",
    "\n",
    "Specifically,\n",
    "* The demand of client $i$ is denoted by $a_{i} \\geq 0$\n",
    "* The capacity of facility $j$ is denoted by $q_{j} \\geq 0$\n",
    "\n",
    "The capacity constraints then write\n",
    "$$\n",
    "\\begin{aligned}\n",
    "\\sum_{i} a_{i} x_{i, j} &\\leq q_{j} y_{j} && \\forall j \\in N\n",
    "\\end{aligned}\n",
    "$$\n",
    "\n",
    "Note that, if $y_{j}$ is set to $0$, the capacity constraint above automatically forces $x_{i, j}$ to $0$.\n",
    "\n",
    "Thus, the capacitated facility location can be formulated as follows\n",
    "\n",
    "$$\n",
    "\\begin{aligned}\n",
    "\\min_{x, y} \\ \\ \\ &\n",
    "\\sum_{i, j} c_{i, j} x_{i, j} +\n",
    "\\sum_{j} f_{j} y_{j} \\\\\n",
    "s.t. &\n",
    "\\sum_{j} x_{i, j} = 1, && \\forall i \\in M \\\\\n",
    "& \\sum_{i} a_{i} x_{i, j} \\leq q_{j} y_{j}, && \\forall j \\in N \\\\\n",
    "& x_{i, j}, y_{j} \\in \\{0, 1\\}, && \\forall i \\in M, j \\in N\n",
    "\\end{aligned}\n",
    "$$\n",
    "\n",
    "For simplicity, we will assume that there is enough capacity to serve the demand,\n",
    " i.e., there exists at least one feasible solution."
   ],
   "metadata": {}
  },
  {
   "outputs": [],
   "cell_type": "code",
   "source": [
    "Random.seed!(314)"
   ],
   "metadata": {},
   "execution_count": null
  },
  {
   "cell_type": "markdown",
   "source": [
    "Demands"
   ],
   "metadata": {}
  },
  {
   "outputs": [],
   "cell_type": "code",
   "source": [
    "a = rand(1:3, m);"
   ],
   "metadata": {},
   "execution_count": null
  },
  {
   "cell_type": "markdown",
   "source": [
    "Capacities"
   ],
   "metadata": {}
  },
  {
   "outputs": [],
   "cell_type": "code",
   "source": [
    "q = rand(5:10, n);"
   ],
   "metadata": {},
   "execution_count": null
  },
  {
   "cell_type": "markdown",
   "source": [
    "Display the data"
   ],
   "metadata": {}
  },
  {
   "outputs": [],
   "cell_type": "code",
   "source": [
    "Plots.scatter(\n",
    "    Xc,\n",
    "    Yc,\n",
    "    label = nothing,\n",
    "    markershape = :circle,\n",
    "    markercolor = :blue,\n",
    "    markersize = 2 .* (2 .+ a),\n",
    ")\n",
    "\n",
    "Plots.scatter!(\n",
    "    Xf,\n",
    "    Yf,\n",
    "    label = nothing,\n",
    "    markershape = :rect,\n",
    "    markercolor = :white,\n",
    "    markersize = q,\n",
    "    markerstrokecolor = :red,\n",
    "    markerstrokewidth = 2,\n",
    ")"
   ],
   "metadata": {},
   "execution_count": null
  },
  {
   "cell_type": "markdown",
   "source": [
    "---\n",
    "\n",
    "*This notebook was generated using [Literate.jl](https://github.com/fredrikekre/Literate.jl).*"
   ],
   "metadata": {}
  }
 ],
 "nbformat_minor": 3,
 "metadata": {
  "language_info": {
   "file_extension": ".jl",
   "mimetype": "application/julia",
   "name": "julia",
   "version": "1.12.1"
  },
  "kernelspec": {
   "name": "julia-1.12",
   "display_name": "Julia 1.12.1",
   "language": "julia"
  }
 },
 "nbformat": 4
}