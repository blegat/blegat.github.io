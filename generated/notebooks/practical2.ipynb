{
 "cells": [
  {
   "cell_type": "markdown",
   "source": [
    "# Practical 2 &ndash; Multiple linear regressions in Julia and introduction to JuMP\n",
    "\n",
    "\n",
    "---\n",
    "\n",
    "**Written by**: Jean Bouchat"
   ],
   "metadata": {}
  },
  {
   "cell_type": "markdown",
   "source": [
    "## Dataset import"
   ],
   "metadata": {}
  },
  {
   "outputs": [],
   "cell_type": "code",
   "source": [
    "using CSV\n",
    "using DataFrames\n",
    "\n",
    "df = DataFrame(CSV.File(\"./Life Expectancy Data.csv\", normalizenames=true))"
   ],
   "metadata": {},
   "execution_count": null
  },
  {
   "cell_type": "markdown",
   "source": [
    "## Linear regression"
   ],
   "metadata": {}
  },
  {
   "outputs": [],
   "cell_type": "code",
   "source": [
    "using Plots\n",
    "using LinearAlgebra\n",
    "using Statistics\n",
    "\n",
    "new_df = dropmissing(df)\n",
    "\n",
    "new_df = new_df[new_df.Year .== 2012, :]"
   ],
   "metadata": {},
   "execution_count": null
  },
  {
   "cell_type": "markdown",
   "source": [
    "Data"
   ],
   "metadata": {}
  },
  {
   "outputs": [],
   "cell_type": "code",
   "source": [
    "y = new_df.Life_expectancy\n",
    "A = new_df.BMI"
   ],
   "metadata": {},
   "execution_count": null
  },
  {
   "cell_type": "markdown",
   "source": [
    "Plot the data"
   ],
   "metadata": {}
  },
  {
   "outputs": [],
   "cell_type": "code",
   "source": [
    "scatter(A, y, label=\"Data\")"
   ],
   "metadata": {},
   "execution_count": null
  },
  {
   "cell_type": "markdown",
   "source": [
    "Add a column of ones to the right of A'"
   ],
   "metadata": {}
  },
  {
   "outputs": [],
   "cell_type": "code",
   "source": [
    "new_A = hcat(A, ones(length(A)))"
   ],
   "metadata": {},
   "execution_count": null
  },
  {
   "cell_type": "markdown",
   "source": [
    "Solve the system Ax=y to find x, i.e., the coefficients of the linear regression model"
   ],
   "metadata": {}
  },
  {
   "outputs": [],
   "cell_type": "code",
   "source": [
    "coefs = new_A\\y # Cannot handle missing values"
   ],
   "metadata": {},
   "execution_count": null
  },
  {
   "cell_type": "markdown",
   "source": [
    "Plot the regression line"
   ],
   "metadata": {}
  },
  {
   "outputs": [],
   "cell_type": "code",
   "source": [
    "x_plot = minimum(A):maximum(A)\n",
    "y_plot = coefs[1]*x_plot .+ coefs[2]\n",
    "label = string(coefs[1], \"*x + \", coefs[2])\n",
    "\n",
    "println(\"Regression line: $(label)\")\n",
    "println(\"R = $(cor(new_df.Life_expectancy, new_df.BMI))\")\n",
    "\n",
    "plot!(x_plot, y_plot, label=label)\n",
    "\n",
    "names(df)\n",
    "\n",
    "features = [\"Life_expectancy\", \"Total_expenditure\", \"GDP\",\n",
    "    \"Income_composition_of_resources\", \"Adult_Mortality\", \"Schooling\"]\n",
    "\n",
    "for feature in features\n",
    "    if feature != \"Country\" && feature != \"Year\" && feature != \"Status\""
   ],
   "metadata": {},
   "execution_count": null
  },
  {
   "cell_type": "markdown",
   "source": [
    "Data"
   ],
   "metadata": {}
  },
  {
   "outputs": [],
   "cell_type": "code",
   "source": [
    "        y = new_df.Life_expectancy\n",
    "        A = new_df[:, feature]"
   ],
   "metadata": {},
   "execution_count": null
  },
  {
   "cell_type": "markdown",
   "source": [
    "Preparing the figure"
   ],
   "metadata": {}
  },
  {
   "outputs": [],
   "cell_type": "code",
   "source": [
    "        fig = plot()"
   ],
   "metadata": {},
   "execution_count": null
  },
  {
   "cell_type": "markdown",
   "source": [
    "Plot the data"
   ],
   "metadata": {}
  },
  {
   "outputs": [],
   "cell_type": "code",
   "source": [
    "        scatter!(A, y, label=\"Data\")"
   ],
   "metadata": {},
   "execution_count": null
  },
  {
   "cell_type": "markdown",
   "source": [
    "Add a column of ones to the right of A'"
   ],
   "metadata": {}
  },
  {
   "outputs": [],
   "cell_type": "code",
   "source": [
    "        new_A = hcat(A, ones(length(A)))"
   ],
   "metadata": {},
   "execution_count": null
  },
  {
   "cell_type": "markdown",
   "source": [
    "Solve the system Ax=y to find x, i.e., the coefficients of the linear regression model"
   ],
   "metadata": {}
  },
  {
   "outputs": [],
   "cell_type": "code",
   "source": [
    "        coefs = new_A\\y # Cannot handle missing values"
   ],
   "metadata": {},
   "execution_count": null
  },
  {
   "cell_type": "markdown",
   "source": [
    "Plot the regression line"
   ],
   "metadata": {}
  },
  {
   "outputs": [],
   "cell_type": "code",
   "source": [
    "        x_plot = range(minimum(A), maximum(A), 100)\n",
    "        y_plot = coefs[1]*x_plot .+ coefs[2]\n",
    "        label = string(coefs[1], \"*x + \", coefs[2])\n",
    "        xlabel = feature\n",
    "        ylabel = \"Life expectancy in 2012\"\n",
    "\n",
    "        display(\"Regression line: $(label)\")"
   ],
   "metadata": {},
   "execution_count": null
  },
  {
   "cell_type": "markdown",
   "source": [
    "Prdicting Life_expectancy from feature using regression model"
   ],
   "metadata": {}
  },
  {
   "outputs": [],
   "cell_type": "code",
   "source": [
    "        y_hat = coefs[1].*A .+ coefs[2]"
   ],
   "metadata": {},
   "execution_count": null
  },
  {
   "cell_type": "markdown",
   "source": [
    "Computing correlation coefficient"
   ],
   "metadata": {}
  },
  {
   "outputs": [],
   "cell_type": "code",
   "source": [
    "        display(\"R = $(cor(y, y_hat))\")\n",
    "\n",
    "        plot!(x_plot, y_plot, label=label, xlabel=xlabel, ylabel=ylabel)"
   ],
   "metadata": {},
   "execution_count": null
  },
  {
   "cell_type": "markdown",
   "source": [
    "Displaying the figure"
   ],
   "metadata": {}
  },
  {
   "outputs": [],
   "cell_type": "code",
   "source": [
    "        display(fig)\n",
    "    end\n",
    "end"
   ],
   "metadata": {},
   "execution_count": null
  },
  {
   "cell_type": "markdown",
   "source": [
    "## Multiple linear regressions"
   ],
   "metadata": {}
  },
  {
   "cell_type": "markdown",
   "source": [
    "Data"
   ],
   "metadata": {}
  },
  {
   "outputs": [],
   "cell_type": "code",
   "source": [
    "y = new_df.Life_expectancy"
   ],
   "metadata": {},
   "execution_count": null
  },
  {
   "cell_type": "markdown",
   "source": [
    "A is the key to go from single to multiple linear regression !"
   ],
   "metadata": {}
  },
  {
   "outputs": [],
   "cell_type": "code",
   "source": [
    "A = hcat(new_df.Adult_Mortality, new_df.Schooling, ones(size(new_df, 1)))"
   ],
   "metadata": {},
   "execution_count": null
  },
  {
   "cell_type": "markdown",
   "source": [
    "Solve the system Ax=y to find x, i.e., the coefficients of the linear regression model"
   ],
   "metadata": {}
  },
  {
   "outputs": [],
   "cell_type": "code",
   "source": [
    "coefs = A\\y # Cannot handle missing values\n",
    "\n",
    "println(\"Regression line: $(coefs[1])*x1 + $(coefs[2])*x2 + $(coefs[3])\")"
   ],
   "metadata": {},
   "execution_count": null
  },
  {
   "cell_type": "markdown",
   "source": [
    "Use the regression model to predict Life_expectancy from Adult_Mortality and Schooling"
   ],
   "metadata": {}
  },
  {
   "outputs": [],
   "cell_type": "code",
   "source": [
    "y_hat = coefs[1].*new_df.Adult_Mortality + coefs[2].*new_df.Schooling .+ coefs[3]"
   ],
   "metadata": {},
   "execution_count": null
  },
  {
   "cell_type": "markdown",
   "source": [
    "Compute correlation coefficient"
   ],
   "metadata": {}
  },
  {
   "outputs": [],
   "cell_type": "code",
   "source": [
    "println(\"R = $(cor(y, y_hat))\")"
   ],
   "metadata": {},
   "execution_count": null
  },
  {
   "cell_type": "markdown",
   "source": [
    " #### ADD Correlation coefficient and coefficient of determination"
   ],
   "metadata": {}
  },
  {
   "cell_type": "markdown",
   "source": [
    "## Linear regression with JuMP\n",
    "\n",
    "https://github.com/odow/jump-training-materials/blob/master/getting_started_with_JuMP.ipynb\n",
    "`JuMP` documentation https://jump.dev/JuMP.jl/stable/\n",
    "`HiGHS` documentation https://www.maths.ed.ac.uk/hall/HiGHS/"
   ],
   "metadata": {}
  },
  {
   "cell_type": "markdown",
   "source": [
    "using Pkg\n",
    "Pkg.add(\"JuMP\")\n",
    "Pkg.add(\"HiGHS\")"
   ],
   "metadata": {}
  },
  {
   "outputs": [],
   "cell_type": "code",
   "source": [
    "using JuMP\n",
    "using HiGHS # Solver"
   ],
   "metadata": {},
   "execution_count": null
  },
  {
   "cell_type": "markdown",
   "source": [
    "Simple linear regression via [least squares](https://en.wikipedia.org/wiki/Least_squares)\n",
    "\n",
    "$$\\text{minimize}_{a, b} \\sum_{i=1}^{N} (y_i-r_i)^2$$\n",
    "such that\n",
    "$$r_i = ax_i+b, \\quad i=1,\\ldots,N$$"
   ],
   "metadata": {}
  },
  {
   "outputs": [],
   "cell_type": "code",
   "source": [
    "y = new_df.Life_expectancy\n",
    "x = new_df.Schooling\n",
    "N = length(x)\n",
    "\n",
    "model = Model(HiGHS.Optimizer)\n",
    "\n",
    "@variable(model, a)\n",
    "@variable(model, b)\n",
    "@expression(model, r[i = 1:N], a*x[i] + b)\n",
    "\n",
    "@objective(model, Min, sum((y[i] - r[i])^2 for i=1:N))\n",
    "\n",
    "optimize!(model)\n",
    "\n",
    "@show value(a)\n",
    "@show value(b);"
   ],
   "metadata": {},
   "execution_count": null
  },
  {
   "cell_type": "markdown",
   "source": [
    "## Homework\n",
    "\n",
    "The [diet problem](https://neos-guide.org/content/diet-problem) was one of the first problems in optimization. George Joseph Stigler formulated the problem of the optimal diet in the late 1930s in an attempt to satisfy the concern of the North American army to find the most economical way to feed its troops while at the same time ensuring certain nutritional requirements.\n",
    "\n",
    "Your homework consists in solving the diet problem described in [Czyzyk and Wisniewski (1996)](https://ftp.mcs.anl.gov/pub/tech_reports/reports/P602.pdf), Section 2, pp. 2-3, using [`JuMP`](https://jump.dev/JuMP.jl/stable/)."
   ],
   "metadata": {}
  },
  {
   "cell_type": "markdown",
   "source": [
    "---\n",
    "\n",
    "*This notebook was generated using [Literate.jl](https://github.com/fredrikekre/Literate.jl).*"
   ],
   "metadata": {}
  }
 ],
 "nbformat_minor": 3,
 "metadata": {
  "language_info": {
   "file_extension": ".jl",
   "mimetype": "application/julia",
   "name": "julia",
   "version": "1.12.1"
  },
  "kernelspec": {
   "name": "julia-1.12",
   "display_name": "Julia 1.12.1",
   "language": "julia"
  }
 },
 "nbformat": 4
}