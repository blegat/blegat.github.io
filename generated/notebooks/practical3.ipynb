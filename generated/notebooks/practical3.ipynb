{
 "cells": [
  {
   "cell_type": "markdown",
   "source": [
    "# Practical 3 &ndash; Linear Programming in JuMP: The diet problem\n",
    "\n",
    "\n",
    "---\n",
    "\n",
    "The [diet problem](https://neos-guide.org/content/diet-problem) was one of the first problems in optimization. George Joseph Stigler formulated the problem of the optimal diet in the late 1930s in an attempt to satisfy the concern of the North American army to find the most economical way to feed its troops while at the same time ensuring certain nutritional requirements.\n",
    "In this session, we will implement it in three different ways and solve it with `JuMP`."
   ],
   "metadata": {}
  },
  {
   "cell_type": "markdown",
   "source": [
    "## Hardcoded diet problem"
   ],
   "metadata": {}
  },
  {
   "outputs": [],
   "cell_type": "code",
   "source": [
    "using JuMP\n",
    "import HiGHS\n",
    "model = Model(HiGHS.Optimizer)\n",
    "@variable(model, corn <= 10)\n",
    "@variable(model, milk <= 10)\n",
    "@variable(model, bread <= 10)\n",
    "@objective(model, Min, 0.18corn + 0.23milk + 0.05bread)\n",
    "@constraint(model, 5000 <= 107corn + 500milk <= 50000)\n",
    "@constraint(model, 2000 <= 72corn + 121milk + 65bread <= 2250)\n",
    "println(model)\n",
    "\n",
    "optimize!(model)\n",
    "solution_summary(model)\n",
    "\n",
    "value(corn), value(milk), value(bread)"
   ],
   "metadata": {},
   "execution_count": null
  },
  {
   "cell_type": "markdown",
   "source": [
    "## Generic diet problem with linear algebra"
   ],
   "metadata": {}
  },
  {
   "outputs": [],
   "cell_type": "code",
   "source": [
    "using LinearAlgebra # for `⋅`\n",
    "function diet(max_serving, cost, min_requirements, max_requirements, quantity)\n",
    "    m, n = size(quantity)\n",
    "    model = Model()\n",
    "    @variable(model, x[i in 1:n] <= max_serving[i])\n",
    "    @objective(model, Min, cost ⋅ x)\n",
    "    @constraint(model, min_requirements .<= quantity * x .<= max_requirements)\n",
    "    return model\n",
    "end\n",
    "\n",
    "max_serving = [10, 10, 10]\n",
    "cost = [0.18, 0.23, 0.05]\n",
    "min_requirements = [5000, 2000]\n",
    "max_requirements = [50000, 2250]\n",
    "quantity = [\n",
    "    107 500 0\n",
    "    72 121 65\n",
    "]\n",
    "model = diet(max_serving, cost, min_requirements, max_requirements, quantity)\n",
    "println(model)\n",
    "\n",
    "set_optimizer(model, HiGHS.Optimizer)\n",
    "optimize!(model)\n",
    "solution_summary(model)\n",
    "\n",
    "value.(model[:x])"
   ],
   "metadata": {},
   "execution_count": null
  },
  {
   "cell_type": "markdown",
   "source": [
    "## More readable generic diet problem"
   ],
   "metadata": {}
  },
  {
   "outputs": [],
   "cell_type": "code",
   "source": [
    "function diet(max_serving, cost, min_requirements, max_requirements, quantity)\n",
    "    model = Model()\n",
    "    requirements, food = axes(quantity)\n",
    "    @variable(model, x[f in food] <= max_serving[f])\n",
    "    @objective(model, Min, sum(cost[f] * x[f] for f in food))\n",
    "    @constraint(\n",
    "        model,\n",
    "        [r in requirements],\n",
    "        min_requirements[r] <= sum(quantity[r, f] * x[f] for f in food) <= max_requirements[r],\n",
    "    )\n",
    "    return model\n",
    "end\n",
    "\n",
    "food = [\"Corn\", \"2% milk\", \"Wheat bread\"]\n",
    "requirements = [\"Calories\", \"Vitamin A\"]\n",
    "model = diet(\n",
    "    JuMP.Containers.DenseAxisArray(max_serving, food),\n",
    "    JuMP.Containers.DenseAxisArray(cost, food),\n",
    "    JuMP.Containers.DenseAxisArray(min_requirements, requirements),\n",
    "    JuMP.Containers.DenseAxisArray(max_requirements, requirements),\n",
    "    JuMP.Containers.DenseAxisArray(quantity, requirements, food),\n",
    ")\n",
    "println(model)\n",
    "\n",
    "set_optimizer(model, HiGHS.Optimizer)\n",
    "optimize!(model)\n",
    "solution_summary(model)\n",
    "\n",
    "value.(model[:x])"
   ],
   "metadata": {},
   "execution_count": null
  },
  {
   "cell_type": "markdown",
   "source": [
    "## Homework\n",
    "\n",
    "Your homework consists in solving the cannery problem described in [Dantzig (1963)](https://www.rand.org/content/dam/rand/pubs/reports/2007/R366part1.pdf), pp. 2-4, using [`JuMP`](https://jump.dev/JuMP.jl/stable/)."
   ],
   "metadata": {}
  },
  {
   "outputs": [],
   "cell_type": "code",
   "source": [
    "plants = [\"Portland\", \"Seattle\", \"San Diego\"]\n",
    "capacity = JuMP.Containers.DenseAxisArray(\n",
    "    [250, 500, 750],\n",
    "    plants,\n",
    ")\n",
    "\n",
    "markets = [\"New-York\", \"Chicago\", \"Kansas City\", \"Dallas\", \"San Francisco\"]\n",
    "demand = JuMP.Containers.DenseAxisArray(\n",
    "    [300, 300, 300, 300, 300],\n",
    "    markets,\n",
    ")\n",
    "\n",
    "price = JuMP.Containers.DenseAxisArray(\n",
    "    [\n",
    "        0.9 1.0 1.5 1.8 2.7\n",
    "        2.5 1.7 1.8 2.0 0.9\n",
    "        2.5 1.8 1.4 1.6 0.6\n",
    "    ],\n",
    "    plants,\n",
    "    markets,\n",
    ")"
   ],
   "metadata": {},
   "execution_count": null
  },
  {
   "cell_type": "markdown",
   "source": [
    "---\n",
    "\n",
    "*This notebook was generated using [Literate.jl](https://github.com/fredrikekre/Literate.jl).*"
   ],
   "metadata": {}
  }
 ],
 "nbformat_minor": 3,
 "metadata": {
  "language_info": {
   "file_extension": ".jl",
   "mimetype": "application/julia",
   "name": "julia",
   "version": "1.11.7"
  },
  "kernelspec": {
   "name": "julia-1.11",
   "display_name": "Julia 1.11.7",
   "language": "julia"
  }
 },
 "nbformat": 4
}
