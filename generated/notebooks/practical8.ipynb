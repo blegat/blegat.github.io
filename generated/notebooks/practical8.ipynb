{
 "cells": [
  {
   "cell_type": "markdown",
   "source": [
    "# Practical 8 &ndash; Statistics and optimization\n",
    "\n",
    "\n",
    "---\n",
    "\n",
    "## Random variable"
   ],
   "metadata": {}
  },
  {
   "outputs": [],
   "cell_type": "code",
   "source": [
    "dice = 1:6\n",
    "\n",
    "using Statistics\n",
    "μ = Statistics.mean(dice)\n",
    "\n",
    "sum(dice) / length(dice)\n",
    "\n",
    "Statistics.var(dice, corrected=false)\n",
    "\n",
    "sum((dice .- μ).^2 / length(dice))\n",
    "\n",
    "Statistics.var(dice)\n",
    "\n",
    "Statistics.std(dice)^2\n",
    "\n",
    "sum((dice .- μ).^2 / (length(dice) - 1))\n",
    "\n",
    "[1:6; 1:6]\n",
    "\n",
    "Statistics.cor([1:6; 1:6])\n",
    "\n",
    "[1:6; 6:-1:1]\n",
    "\n",
    "Statistics.cor([1:6; 6:-1:1])\n",
    "\n",
    "[1:6 6:-1:1]\n",
    "\n",
    "Statistics.cor([1:6 6:-1:1])"
   ],
   "metadata": {},
   "execution_count": null
  },
  {
   "cell_type": "markdown",
   "source": [
    "`rand` produces independent output so we should see a zero correlation. For small values we still see a bit of correlation"
   ],
   "metadata": {}
  },
  {
   "outputs": [],
   "cell_type": "code",
   "source": [
    "rand(6, 2)\n",
    "\n",
    "Statistics.cor(rand(6, 2))"
   ],
   "metadata": {},
   "execution_count": null
  },
  {
   "cell_type": "markdown",
   "source": [
    "But as we increase, the correlation goes to zero"
   ],
   "metadata": {}
  },
  {
   "outputs": [],
   "cell_type": "code",
   "source": [
    "Statistics.cor(rand(100, 2))\n",
    "\n",
    "Statistics.cor(rand(100000, 2))"
   ],
   "metadata": {},
   "execution_count": null
  },
  {
   "cell_type": "markdown",
   "source": [
    "## Gaussian/Normal distribution"
   ],
   "metadata": {}
  },
  {
   "outputs": [],
   "cell_type": "code",
   "source": [
    "using Plots\n",
    "μ = 0\n",
    "σ = 1\n",
    "f(x) = exp(-1/2*((x - μ) / σ)^2) / (σ * √(2π))\n",
    "\n",
    "x = range(-4.0, stop=4.0, length=1000)\n",
    "plot(x, f.(x))\n",
    "z = randn(100)\n",
    "scatter!(z, f.(z), markersize=2)"
   ],
   "metadata": {},
   "execution_count": null
  },
  {
   "cell_type": "markdown",
   "source": [
    "## Statistical inference"
   ],
   "metadata": {}
  },
  {
   "cell_type": "markdown",
   "source": [
    "*See Example 7.1 of Boyd & Vandenberghe \"Convex Optimization\" book.*\n",
    "\n",
    "Suppose we observe $y_i = a_i^\\top x + v_i$ where $v_i$ has a normal distribution $\\mathcal{N}(\\mu_i, \\sigma_i^2)$.\n",
    "\n",
    "We want to recover $x$ from the observation $y_i$ such that the $v_i$ are likely to occur.\n",
    "That is, we want to maximize $f(v_i)$. This is multi-objective. Instead, we can maximize the likelihood that they all occur. Since they are independent, it's the product.\n",
    "$$\\prod_{i=1}^n f(v_i) = \\prod_{i=1}^n \\frac{1}{\\sigma_i \\sqrt{2\\pi}}\\exp(-\\frac{(v_i - \\mu_i)^2}{2\\sigma_i^2})$$\n",
    "Since $\\log$ is an increasing function, that is equivalent to maximizing the logarithm:\n",
    "$$\\sum_{i=1}^n \\log(\\frac{1}{\\sigma_i \\sqrt{2\\pi}}\\exp(-\\frac{(v_i - \\mu_i)^2}{2\\sigma_i^2}))$$\n",
    "which is equal to\n",
    "$$-\\sum_{i=1}^n \\log(\\sigma_i) - \\frac{n\\log(2\\pi)}{2} -\\frac{1}{2\\sigma_i^2} \\sum_{i=1}^n (v_i - \\mu_i)^2$$\n",
    "The first two terms do not depend on $v_i$ so we can drop them.\n",
    "$$-\\frac{1}{2} \\sum_{i=1}^n \\frac{(v_i - \\mu_i)^2}{\\sigma_i^2}$$\n",
    "$-\\frac{1}{2}$ is a negative constant so **maximizing** this expression is equivalent to **minimizing**\n",
    "$$\\sum_{i=1}^n \\frac{(v_i - \\mu_i)^2}{\\sigma_i^2}$$\n",
    "In terms of $x$, this is\n",
    "$$\\min_x \\sum_{i=1}^n \\frac{(y_i - a_i^\\top x - \\mu_i)^2}{\\sigma_i^2}$$"
   ],
   "metadata": {}
  },
  {
   "cell_type": "markdown",
   "source": [
    "If $\\mu_i = 0$ and $\\sigma_i$ does not depend on $i$ (same for all samples, we say they are independent and identially distributed (**i.i.d**)), this gives\n",
    "$$\\min_x \\lVert y - Ax \\rVert_2$$\n",
    "where the $i$th row of $A$ is $a_i$.\n",
    "So the classical linear regression we saw during the first week assumes i.i.d. normal noise of zero mean."
   ],
   "metadata": {}
  },
  {
   "cell_type": "markdown",
   "source": [
    "How to interpret the scaling $\\sigma_i^2$ in terms of influence on $x$ for very noisy samples ?"
   ],
   "metadata": {}
  },
  {
   "outputs": [],
   "cell_type": "code",
   "source": [
    "n = 101\n",
    "σ = [1000; ones(n - 1)]\n",
    "μ = 100rand(n)\n",
    "v = randn(n) .* σ .+ μ\n",
    "\n",
    "m = 10\n",
    "x = rand(m)\n",
    "A = rand(n, m)\n",
    "y = A * x + v"
   ],
   "metadata": {},
   "execution_count": null
  },
  {
   "cell_type": "markdown",
   "source": [
    "Without taking the noise into account, we get large errors:"
   ],
   "metadata": {}
  },
  {
   "outputs": [],
   "cell_type": "code",
   "source": [
    "x - A \\ y"
   ],
   "metadata": {},
   "execution_count": null
  },
  {
   "cell_type": "markdown",
   "source": [
    "Taking $\\mu$ into account can be done as follows:"
   ],
   "metadata": {}
  },
  {
   "outputs": [],
   "cell_type": "code",
   "source": [
    "x - A \\ (y - μ)"
   ],
   "metadata": {},
   "execution_count": null
  },
  {
   "cell_type": "markdown",
   "source": [
    "How do we take $\\sigma$ into account ?\n",
    "\n",
    "We know that `\\ ` solves the least square\n",
    "$$\\min_x \\lVert y - Ax \\rVert_2 = \\sum_{i = 1}^n (y_i - a_i^\\top x)^2$$\n",
    "but we want it to solve\n",
    "$$\\sum_{i = 1}^n (y_i - a_i^\\top x - \\mu_i)^2 / \\sigma_i^2$$\n",
    "instead. How do we do this ?\n",
    "The expression is equal to\n",
    "$$\\sum_{i = 1}^n (\\frac{y_i - \\mu_i}{\\sigma_i} - \\frac{a_i^\\top}{\\sigma_i} x)^2$$\n",
    "so we can just scale $y$ and $A$:"
   ],
   "metadata": {}
  },
  {
   "outputs": [],
   "cell_type": "code",
   "source": [
    "x - (A ./ σ) \\ ((y - μ) ./ σ)"
   ],
   "metadata": {},
   "execution_count": null
  },
  {
   "cell_type": "markdown",
   "source": [
    "Now that's much better."
   ],
   "metadata": {}
  },
  {
   "cell_type": "markdown",
   "source": [
    "---\n",
    "\n",
    "*This notebook was generated using [Literate.jl](https://github.com/fredrikekre/Literate.jl).*"
   ],
   "metadata": {}
  }
 ],
 "nbformat_minor": 3,
 "metadata": {
  "language_info": {
   "file_extension": ".jl",
   "mimetype": "application/julia",
   "name": "julia",
   "version": "1.12.1"
  },
  "kernelspec": {
   "name": "julia-1.12",
   "display_name": "Julia 1.12.1",
   "language": "julia"
  }
 },
 "nbformat": 4
}