{
 "cells": [
  {
   "cell_type": "markdown",
   "source": [
    "# Lecture 3 &ndash; What is convexity and why does it matter\n",
    "\n",
    "\n",
    "---\n",
    "\n",
    "# Julia: lambda function"
   ],
   "metadata": {}
  },
  {
   "outputs": [],
   "cell_type": "code",
   "source": [
    "f(x) = x * sin(x)\n",
    "\n",
    "plot_convexity(f, -1, 1)\n",
    "\n",
    "plot_convexity(x -> x * sin(x), -1, 1)"
   ],
   "metadata": {},
   "execution_count": null
  },
  {
   "cell_type": "markdown",
   "source": [
    "# Nonconvexity and local minima\n",
    "\n",
    "A function $f(x)$ is *convex* if $f(\\lambda x + (1 - \\lambda) y) \\le \\lambda f(x) + (1 - \\lambda) f(y)$ for all pairs $x, y$ and $0 \\le \\lambda \\le 1$."
   ],
   "metadata": {}
  },
  {
   "outputs": [],
   "cell_type": "code",
   "source": [
    "using Plots\n",
    "function plot_convexity(f::Function, min_x, max_x)\n",
    "    step = 100\n",
    "    xs = range(min_x, stop = max_x, length = 10step + 1)\n",
    "    plot(xs, f.(xs), label = \"\")\n",
    "    for i in (step + 1):step:length(xs)\n",
    "        a = xs[i - step]\n",
    "        b = xs[i]\n",
    "        ys = [a, b]\n",
    "        cord = (f(a) + f(b)) / 2\n",
    "        graph = f((a + b) / 2)\n",
    "        color = if cord ≈ graph\n",
    "            :orange\n",
    "        elseif cord <= graph\n",
    "            :red\n",
    "        else\n",
    "            :green\n",
    "        end\n",
    "        plot!(ys, f.(ys), color = color, label = \"\")\n",
    "    end\n",
    "    plot!()\n",
    "end\n",
    "\n",
    "plot_convexity(x -> x * sin(x), -20, 20)\n",
    "plot_convexity(x -> abs(x), -5, 6)\n",
    "\n",
    "using JuMP\n",
    "import Ipopt\n",
    "model = Model(Ipopt.Optimizer)\n",
    "set_silent(model)\n",
    "@variable(model, x, start=0.0)\n",
    "@NLobjective(model, Min, x * sin(x))\n",
    "optimize!(model)\n",
    "solution_summary(model)\n",
    "\n",
    "value(x)\n",
    "\n",
    "set_start_value(x, 1)\n",
    "optimize!(model)\n",
    "solution_summary(model)\n",
    "\n",
    "value(x)"
   ],
   "metadata": {},
   "execution_count": null
  },
  {
   "cell_type": "markdown",
   "source": [
    "$3.4 \\times 10^{-10}$"
   ],
   "metadata": {}
  },
  {
   "outputs": [],
   "cell_type": "code",
   "source": [
    "set_start_value(x, 6)\n",
    "optimize!(model)\n",
    "solution_summary(model)\n",
    "\n",
    "value(x)\n",
    "\n",
    "10^10\n",
    "\n",
    "set_start_value(x, 10)\n",
    "optimize!(model)\n",
    "solution_summary(model)\n",
    "\n",
    "value(x)"
   ],
   "metadata": {},
   "execution_count": null
  },
  {
   "cell_type": "markdown",
   "source": [
    "# Convexity"
   ],
   "metadata": {}
  },
  {
   "outputs": [],
   "cell_type": "code",
   "source": [
    "exp10(4)"
   ],
   "metadata": {},
   "execution_count": null
  },
  {
   "cell_type": "markdown",
   "source": [
    "$d(e^x)/dx = e^x$"
   ],
   "metadata": {}
  },
  {
   "outputs": [],
   "cell_type": "code",
   "source": [
    "exp(1)\n",
    "\n",
    "plot_convexity(x -> exp(x) + exp(-3x), -1, 3)\n",
    "plot_convexity(x -> -(exp(x) + exp(-3x)), -1, 3)\n",
    "\n",
    "@NLobjective(model, Min, exp(x) + exp(-3x))\n",
    "optimize!(model)\n",
    "solution_summary(model)\n",
    "\n",
    "value(x)\n",
    "\n",
    "set_start_value(x, 0)\n",
    "optimize!(model)\n",
    "solution_summary(model)\n",
    "\n",
    "value(x)\n",
    "\n",
    "set_start_value(x, -6)\n",
    "optimize!(model)\n",
    "solution_summary(model)\n",
    "\n",
    "value(x)\n",
    "\n",
    "@NLobjective(model, Max, exp(x) + exp(-3x))\n",
    "optimize!(model)\n",
    "solution_summary(model)\n",
    "\n",
    "value(x)\n",
    "\n",
    "set_upper_bound(x, 3)\n",
    "set_lower_bound(x, -1)\n",
    "\n",
    "println(model)\n",
    "\n",
    "@NLobjective(model, Max, exp(x) + exp(-3x))\n",
    "optimize!(model)\n",
    "solution_summary(model)\n",
    "\n",
    "value(x)\n",
    "\n",
    "set_start_value(x, 2.5)\n",
    "optimize!(model)\n",
    "solution_summary(model)\n",
    "\n",
    "value(x)\n",
    "\n",
    "@NLobjective(model, Min, -(exp(x) + exp(-3x)))\n",
    "optimize!(model)\n",
    "solution_summary(model)\n",
    "\n",
    "value(x)"
   ],
   "metadata": {},
   "execution_count": null
  },
  {
   "cell_type": "markdown",
   "source": [
    "Minimizing convex function or maximizing concave function over a convex feasible set:\n",
    "* The set of local minimizers is a convex set and they are all global.\n",
    "\n",
    "Minimizing concave function or maximizing convex function over a convex feasible set:\n",
    "* There are local minimizers that are not global. There exists one global minimum that is an extreme point."
   ],
   "metadata": {}
  },
  {
   "outputs": [],
   "cell_type": "code",
   "source": [
    "plot_convexity(x -> max(exp(x) + exp(-3x), 5), -1, 3)\n",
    "\n",
    "model = Model(Ipopt.Optimizer)\n",
    "@variable(model, x)\n",
    "set_start_value(x, 0.1)\n",
    "set_lower_bound(x, -1)\n",
    "set_upper_bound(x, 3)\n",
    "@NLobjective(model, Min, max(exp(x) + exp(-3x), 5))\n",
    "optimize!(model)\n",
    "solution_summary(model)\n",
    "\n",
    "value(x)"
   ],
   "metadata": {},
   "execution_count": null
  },
  {
   "cell_type": "markdown",
   "source": [
    "## Operations of convex functions"
   ],
   "metadata": {}
  },
  {
   "outputs": [],
   "cell_type": "code",
   "source": [
    "plot_convexity(x -> 2, -3, 3)\n",
    "\n",
    "plot_convexity(x -> -2x, -3, 3)\n",
    "\n",
    "plot_convexity(x -> x^2 + x^4, -3, 3)\n",
    "\n",
    "plot_convexity(x -> x^3, -3, 3)\n",
    "\n",
    "plot_convexity(x -> x^4, -3, 3)\n",
    "\n",
    "plot_convexity(x -> x^5, -3, 3)\n",
    "\n",
    "plot_convexity(x -> x^6, -3, 3)\n",
    "\n",
    "plot_convexity(x -> x^7, -3, 3)\n",
    "\n",
    "plot_convexity(x -> -x^2 + y^2 + (-2x) + 2, -3, 3)\n",
    "\n",
    "plot_convexity(x -> exp(x), -4, 3)\n",
    "plot_convexity(x -> -log(x), 0.03, 3)\n",
    "\n",
    "plot_convexity(x -> exp(x) + exp(-3x), -1, 3)\n",
    "\n",
    "plot_convexity(x -> exp(x) - log(x), 0.001, 3)"
   ],
   "metadata": {},
   "execution_count": null
  },
  {
   "cell_type": "markdown",
   "source": [
    "A function $f$ is *concave* if $-f$ is convex."
   ],
   "metadata": {}
  },
  {
   "outputs": [],
   "cell_type": "code",
   "source": [
    "plot_convexity(x -> -log(x), 0.1, 3)\n",
    "\n",
    "plot_convexity(x -> x * sin(x), -6, 6)\n",
    "\n",
    "plot_convexity(x -> x, 0.1, 3)\n",
    "\n",
    "plot_convexity(x -> exp(x) + log(x), 0.01, 2)\n",
    "\n",
    "plot_convexity(x -> 2exp(x), -1, 2) # exp(x)\n",
    "plot_convexity(x -> -exp(x), -1, 2) # exp(x)\n",
    "plot_convexity(x -> 2exp(x) + (-exp(x)), -1, 2) # exp(x)\n",
    "\n",
    "plot_convexity(x -> 1 / x, -10, -0.1) # exp(x)"
   ],
   "metadata": {},
   "execution_count": null
  },
  {
   "cell_type": "markdown",
   "source": [
    "# Convex sets defined by inequality with convex functions"
   ],
   "metadata": {}
  },
  {
   "outputs": [],
   "cell_type": "code",
   "source": [
    "plot_convexity(x -> x^2 - 2x - 1, -1, 3)"
   ],
   "metadata": {},
   "execution_count": null
  },
  {
   "cell_type": "markdown",
   "source": [
    "x^2 - 2x - 1 <= 0\n",
    "[-0.3, 2.4] -> convex"
   ],
   "metadata": {}
  },
  {
   "cell_type": "markdown",
   "source": [
    "x^2 - 2x - 1 >= 0\n",
    "]-infty; -0.3] ∪ [2.4; infty[ -> not convex"
   ],
   "metadata": {}
  },
  {
   "outputs": [],
   "cell_type": "code",
   "source": [
    "plot_convexity(x -> exp(x) - log(x), 0.001, 3)"
   ],
   "metadata": {},
   "execution_count": null
  },
  {
   "cell_type": "markdown",
   "source": [
    "exp(x) - log(x) <= 15\n",
    "[0.0001, 2.7]"
   ],
   "metadata": {}
  },
  {
   "cell_type": "markdown",
   "source": [
    "x^2 - 2x - 1 <= 0\n",
    "exp(x) - log(x) <= 15\n",
    "[0.0001, 2.4]"
   ],
   "metadata": {}
  },
  {
   "cell_type": "markdown",
   "source": [
    "# Linear Programs"
   ],
   "metadata": {}
  },
  {
   "outputs": [],
   "cell_type": "code",
   "source": [
    "using JuMP\n",
    "import HiGHS\n",
    "model = Model(HiGHS.Optimizer)\n",
    "@variable(model, x >= -1)\n",
    "@variable(model, y >= -1)\n",
    "@constraint(model, 2x + y <= 1)\n",
    "@constraint(model, x + 3y <= 1)\n",
    "@objective(model, Max, x + 2y)\n",
    "optimize!(model)\n",
    "solution_summary(model)\n",
    "\n",
    "value(x)\n",
    "\n",
    "value(y)\n",
    "\n",
    "using Polyhedra\n",
    "plot(polyhedron(model), ratio = :equal)\n",
    "scatter!([value(x)], [(value(y))])\n",
    "xs = range(-0.5, stop=1, length=100)\n",
    "plot!(xs, (objective_value(model) .- xs) / 2)\n",
    "\n",
    "model = Model(HiGHS.Optimizer)\n",
    "@variable(model, -1 <= x[1:100] <= 1)\n",
    "#@variable(model, x >= -1)\n",
    "#@variable(model, y >= -1)\n",
    "#@constraint(model, 2x + y <= 1)\n",
    "#@constraint(model, x + 3y <= 1)\n",
    "@objective(model, Max, sum(x))\n",
    "optimize!(model)\n",
    "solution_summary(model)\n",
    "\n",
    "\n",
    "1D: 2, 2\n",
    "2D: 4, 4\n",
    "3D: 6, 8\n",
    "4D: 8, 16\n",
    "5D: 10, 32\n",
    "6D: 12, 64\n",
    "7D: 14, 128\n",
    "8D: 16, 256\n",
    "9D: 18, 512\n",
    "10D: 20, 1024\n",
    "30D: 60, 1B\n",
    "nD: 2n, 2^n\n",
    "\n",
    "2x + y == 1\n",
    "x + 3y == 1\n",
    "\n",
    "[2 1\n",
    "1 3] \\ [1, 1]\n",
    "\n",
    "\n",
    "model = Model()\n",
    "@variable(model, -1 <= x[1:50] <= 1)\n",
    "println(model)\n",
    "\n",
    "50^2"
   ],
   "metadata": {},
   "execution_count": null
  },
  {
   "cell_type": "markdown",
   "source": [
    "---\n",
    "\n",
    "*This notebook was generated using [Literate.jl](https://github.com/fredrikekre/Literate.jl).*"
   ],
   "metadata": {}
  }
 ],
 "nbformat_minor": 3,
 "metadata": {
  "language_info": {
   "file_extension": ".jl",
   "mimetype": "application/julia",
   "name": "julia",
   "version": "1.11.7"
  },
  "kernelspec": {
   "name": "julia-1.11",
   "display_name": "Julia 1.11.7",
   "language": "julia"
  }
 },
 "nbformat": 4
}
