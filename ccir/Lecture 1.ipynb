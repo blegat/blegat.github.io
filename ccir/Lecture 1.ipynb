{
 "cells": [
  {
   "cell_type": "markdown",
   "id": "c705b981",
   "metadata": {},
   "source": [
    "# System of linear equations\n",
    "\n",
    "Find $x_1, x_2, x_3$ such that:\n",
    "$$\n",
    "\\begin{alignat}{7}\n",
    " 3x_1 &&\\; + \\;&& 2x_2 &&\\; - \\;&&  x_3 &&\\; = \\;&& 1 & \\\\\n",
    " 2x_1 &&\\; - \\;&& 2x_2 &&\\; + \\;&& 4x_3 &&\\; = \\;&& -2 & \\\\\n",
    "-2x_1 &&\\; + \\;&& 1x_2 &&\\; - \\;&& 2x_3 &&\\; = \\;&& 0 &\n",
    "\\end{alignat}\n",
    "$$"
   ]
  },
  {
   "cell_type": "code",
   "execution_count": 1,
   "id": "3df9c084",
   "metadata": {},
   "outputs": [
    {
     "data": {
      "text/plain": [
       "3×3 Matrix{Int64}:\n",
       "  3   2  -1\n",
       "  2  -2   4\n",
       " -2   1  -2"
      ]
     },
     "execution_count": 1,
     "metadata": {},
     "output_type": "execute_result"
    }
   ],
   "source": [
    "A = [\n",
    "     3  2 -1\n",
    "     2 -2  4\n",
    "    -2  1 -2\n",
    "]"
   ]
  },
  {
   "cell_type": "code",
   "execution_count": 2,
   "id": "8b7e4a05",
   "metadata": {},
   "outputs": [
    {
     "data": {
      "text/plain": [
       "3-element Vector{Int64}:\n",
       "  1\n",
       " -2\n",
       "  0"
      ]
     },
     "execution_count": 2,
     "metadata": {},
     "output_type": "execute_result"
    }
   ],
   "source": [
    "b = [1, -2, 0]"
   ]
  },
  {
   "cell_type": "markdown",
   "id": "73024eab",
   "metadata": {},
   "source": [
    "## Symbolic approach"
   ]
  },
  {
   "cell_type": "code",
   "execution_count": 3,
   "id": "692701ff",
   "metadata": {},
   "outputs": [
    {
     "data": {
      "text/plain": [
       "3×4 Matrix{Float64}:\n",
       " 1.0  0.0  0.0   1.0\n",
       " 0.0  1.0  0.0  -2.0\n",
       " 0.0  0.0  1.0  -2.0"
      ]
     },
     "execution_count": 3,
     "metadata": {},
     "output_type": "execute_result"
    }
   ],
   "source": [
    "using RowEchelon\n",
    "rref([A b])"
   ]
  },
  {
   "cell_type": "markdown",
   "id": "5162cd1a",
   "metadata": {},
   "source": [
    "*Symbolic* as amenable to exact arithmetic:"
   ]
  },
  {
   "cell_type": "code",
   "execution_count": 4,
   "id": "bc8c7d1b",
   "metadata": {},
   "outputs": [
    {
     "data": {
      "text/plain": [
       "3×4 Matrix{Rational{Int64}}:\n",
       " 1//1  0//1  0//1   1//1\n",
       " 0//1  1//1  0//1  -2//1\n",
       " 0//1  0//1  1//1  -2//1"
      ]
     },
     "execution_count": 4,
     "metadata": {},
     "output_type": "execute_result"
    }
   ],
   "source": [
    "rref(Rational{Int}.([A b]))"
   ]
  },
  {
   "cell_type": "markdown",
   "id": "1961b1e7",
   "metadata": {},
   "source": [
    "## Numerical approach"
   ]
  },
  {
   "cell_type": "code",
   "execution_count": 5,
   "id": "6298d907",
   "metadata": {},
   "outputs": [
    {
     "data": {
      "text/plain": [
       "3-element Vector{Float64}:\n",
       "  0.9999999999999994\n",
       " -1.9999999999999982\n",
       " -1.9999999999999984"
      ]
     },
     "execution_count": 5,
     "metadata": {},
     "output_type": "execute_result"
    }
   ],
   "source": [
    "A \\ b"
   ]
  },
  {
   "cell_type": "markdown",
   "id": "fae463a3",
   "metadata": {},
   "source": [
    "# Overdetermined system\n",
    "\n",
    "Find $x_1, x_2$ such that:\n",
    "$$\n",
    "\\begin{alignat}{7}\n",
    "3x_1 &&\\; + \\;&& 2x_2             &&\\; = \\;&& 1 & \\\\\n",
    "2x_1 &&\\; - \\;&& 2x_2             &&\\; = \\;&& -2 & \\\\\n",
    "-2x_1 &&\\; + \\;&& 1x_2 &&\\; = \\;&& 0 &\n",
    "\\end{alignat}\n",
    "$$"
   ]
  },
  {
   "cell_type": "code",
   "execution_count": 6,
   "id": "79889b6c",
   "metadata": {},
   "outputs": [
    {
     "data": {
      "text/plain": [
       "3×2 Matrix{Int64}:\n",
       "  3   2\n",
       "  2  -2\n",
       " -2   1"
      ]
     },
     "execution_count": 6,
     "metadata": {},
     "output_type": "execute_result"
    }
   ],
   "source": [
    "B = A[:, 1:2]"
   ]
  },
  {
   "cell_type": "code",
   "execution_count": 7,
   "id": "b1717c2a",
   "metadata": {},
   "outputs": [
    {
     "data": {
      "text/plain": [
       "3×3 Matrix{Float64}:\n",
       " 1.0  0.0  0.0\n",
       " 0.0  1.0  0.0\n",
       " 0.0  0.0  1.0"
      ]
     },
     "execution_count": 7,
     "metadata": {},
     "output_type": "execute_result"
    }
   ],
   "source": [
    "using RowEchelon\n",
    "rref([B b])"
   ]
  },
  {
   "cell_type": "markdown",
   "id": "6277114b",
   "metadata": {},
   "source": [
    "This gives the system\n",
    "\\begin{alignat}{7}\n",
    "x_1 &&\\;  \\;&&     &&\\; = \\;&& 0 & \\\\\n",
    "    &&\\;  \\;&& x_2 &&\\; = \\;&& 0 & \\\\\n",
    "    &&\\;  \\;&&     &&\\; = \\;&& 1 & \\\\\n",
    "\\end{alignat}\n",
    "The system has no solution."
   ]
  },
  {
   "cell_type": "code",
   "execution_count": 8,
   "id": "c05f3c1d",
   "metadata": {},
   "outputs": [
    {
     "data": {
      "text/plain": [
       "2-element Vector{Float64}:\n",
       " -0.058823529411764705\n",
       "  0.666666666666667"
      ]
     },
     "execution_count": 8,
     "metadata": {},
     "output_type": "execute_result"
    }
   ],
   "source": [
    "x = B \\ b"
   ]
  },
  {
   "cell_type": "code",
   "execution_count": 9,
   "id": "3641e4ec",
   "metadata": {},
   "outputs": [
    {
     "data": {
      "text/plain": [
       "3-element Vector{Float64}:\n",
       " 0.15686274509803977\n",
       " 0.5490196078431366\n",
       " 0.7843137254901964"
      ]
     },
     "execution_count": 9,
     "metadata": {},
     "output_type": "execute_result"
    }
   ],
   "source": [
    "e = B * x - b"
   ]
  },
  {
   "cell_type": "markdown",
   "id": "4a8018b7",
   "metadata": {},
   "source": [
    "The system has no solution.\n",
    "We want to minimize the error $e$ : *multi-objective optimization*.\n",
    "Reduce to one objective with sum of squares.\n",
    "$$\n",
    "\\begin{aligned}\n",
    "\\min_{x_1,x_2} & \\, e_1^2 + e_2^2 + e_3^2\\\\\n",
    "\\text{s.t. }e = & \\, Bx - b\n",
    "\\end{aligned}\n",
    "$$\n",
    "\n",
    "In general, $B \\in \\mathbb{R}^{m \\times n}$, $b \\in \\mathbb{R}^m$:\n",
    "$$\n",
    "\\begin{aligned}\n",
    "\\min_{x \\in \\mathbb{R}^n} & \\|Bx - b\\|_2\n",
    "\\end{aligned}\n",
    "$$\n",
    "where $\\|e\\|_2 = e_1^2 + e_2^2 + \\cdots e_m^2$ is the *Euclidean norm*.\n",
    "\n",
    "*Unconstrained* mathematical optimization program:\n",
    "\n",
    "* *Decision variables*: $x \\in \\mathbb{R}^n$\n",
    "* *Objective function*: $\\|Bx - b\\|_2$\n",
    "\n",
    "Optimal solution: solution of $B^\\top B x = B^\\top b$. If $B^\\top B$ is invertible, $x = (B^\\top B)^{-1} B^\\top b$."
   ]
  },
  {
   "cell_type": "code",
   "execution_count": 10,
   "id": "23dc2ab3",
   "metadata": {},
   "outputs": [
    {
     "data": {
      "text/plain": [
       "2-element Vector{Float64}:\n",
       " -2.220446049250313e-16\n",
       "  2.6645352591003757e-15"
      ]
     },
     "execution_count": 10,
     "metadata": {},
     "output_type": "execute_result"
    }
   ],
   "source": [
    "B' * e"
   ]
  },
  {
   "cell_type": "markdown",
   "id": "00990d90",
   "metadata": {},
   "source": [
    "# Underdetermined system\n",
    "\n",
    "Find $x_1, x_2, x_3$ such that:\n",
    "$$\n",
    "\\begin{alignat}{7}\n",
    "3x_1 &&\\; + \\;&& 2x_2 &&\\; - \\;&&  x_3 &&\\; = \\;&& 1 & \\\\\n",
    "2x_1 &&\\; - \\;&& 2x_2 &&\\; + \\;&& 4x_3 &&\\; = \\;&& -2 & \\\\\n",
    "\\end{alignat}\n",
    "$$"
   ]
  },
  {
   "cell_type": "code",
   "execution_count": 11,
   "id": "283f6ef0",
   "metadata": {},
   "outputs": [
    {
     "data": {
      "text/plain": [
       "2×3 Matrix{Int64}:\n",
       " 3   2  -1\n",
       " 2  -2   4"
      ]
     },
     "execution_count": 11,
     "metadata": {},
     "output_type": "execute_result"
    }
   ],
   "source": [
    "C = A[1:2, :]"
   ]
  },
  {
   "cell_type": "code",
   "execution_count": 12,
   "id": "65d91da8",
   "metadata": {},
   "outputs": [
    {
     "data": {
      "text/plain": [
       "2-element Vector{Int64}:\n",
       "  1\n",
       " -2"
      ]
     },
     "execution_count": 12,
     "metadata": {},
     "output_type": "execute_result"
    }
   ],
   "source": [
    "c = b[1:2]"
   ]
  },
  {
   "cell_type": "code",
   "execution_count": 13,
   "id": "b9f93111",
   "metadata": {},
   "outputs": [
    {
     "data": {
      "text/plain": [
       "2×4 Matrix{Float64}:\n",
       " 1.0  0.0   0.6  -0.2\n",
       " 0.0  1.0  -1.4   0.8"
      ]
     },
     "execution_count": 13,
     "metadata": {},
     "output_type": "execute_result"
    }
   ],
   "source": [
    "using RowEchelon\n",
    "rref([C c])"
   ]
  },
  {
   "cell_type": "markdown",
   "id": "b01f2cbe",
   "metadata": {},
   "source": [
    "This gives the system\n",
    "\\begin{alignat}{7}\n",
    "x_1 &&\\;  \\;&&  &&\\; + \\;&&  0.6x_3 &&\\; = \\;&& -0.2 & \\\\\n",
    " &&\\;  \\;&& x_2 &&\\; - \\;&& 1.4x_3 &&\\; = \\;&& 0.8 & \\\\\n",
    "\\end{alignat}\n",
    "The system has infinitely solutions: It has a solution $(-0.2 - 0.6x_3, 0.8 + 1.4x_3)$ for any $x_3$."
   ]
  },
  {
   "cell_type": "code",
   "execution_count": 14,
   "id": "abe3c0f6",
   "metadata": {},
   "outputs": [
    {
     "data": {
      "text/plain": [
       "3-element Vector{Float64}:\n",
       "  0.024096385542168756\n",
       "  0.2771084337349399\n",
       " -0.3734939759036146"
      ]
     },
     "execution_count": 14,
     "metadata": {},
     "output_type": "execute_result"
    }
   ],
   "source": [
    "x = C \\ c"
   ]
  },
  {
   "cell_type": "code",
   "execution_count": 15,
   "id": "10600262",
   "metadata": {},
   "outputs": [
    {
     "data": {
      "text/plain": [
       "2-element Vector{Float64}:\n",
       "  6.661338147750939e-16\n",
       " -8.881784197001252e-16"
      ]
     },
     "execution_count": 15,
     "metadata": {},
     "output_type": "execute_result"
    }
   ],
   "source": [
    "C * x - c"
   ]
  },
  {
   "cell_type": "markdown",
   "id": "ecb00b1a",
   "metadata": {},
   "source": [
    "Suppose we want to minimize $\\|x\\|_2$:\n",
    "$$\n",
    "\\begin{aligned}\n",
    "\\min_{x \\in \\mathbb{R}^n}& \\|x\\|_2\\\\\n",
    "\\text{s.t. }Cx & = c\n",
    "\\end{aligned}\n",
    "$$\n",
    "\n",
    "Mathematical optimization program:\n",
    "\n",
    "* *Decision variables*: $x \\in \\mathbb{R}^n$\n",
    "* *Objective function*: $\\|x\\|_2$\n",
    "* *Constraints*: $Cx = c$\n",
    "\n",
    "Optimal solution: $x = C^\\top \\lambda$ where $\\lambda$ is a solution of $CC^\\top \\lambda = c$.\n",
    "If $CC^\\top$ is invertible, $x = C^\\top (CC^\\top)^{-1} c$."
   ]
  },
  {
   "cell_type": "code",
   "execution_count": 16,
   "id": "ac4921ce",
   "metadata": {},
   "outputs": [
    {
     "data": {
      "text/plain": [
       "3-element Vector{Float64}:\n",
       "  0.024096385542168756\n",
       "  0.2771084337349399\n",
       " -0.3734939759036146"
      ]
     },
     "execution_count": 16,
     "metadata": {},
     "output_type": "execute_result"
    }
   ],
   "source": [
    "C \\ c"
   ]
  },
  {
   "cell_type": "code",
   "execution_count": 17,
   "id": "bd9efe34",
   "metadata": {},
   "outputs": [
    {
     "data": {
      "text/plain": [
       "3-element Vector{Float64}:\n",
       "  0.024096385542168697\n",
       "  0.27710843373493976\n",
       " -0.3734939759036145"
      ]
     },
     "execution_count": 17,
     "metadata": {},
     "output_type": "execute_result"
    }
   ],
   "source": [
    "C' * ((C * C') \\ c)"
   ]
  },
  {
   "cell_type": "code",
   "execution_count": null,
   "id": "76897adb",
   "metadata": {},
   "outputs": [],
   "source": []
  }
 ],
 "metadata": {
  "@webio": {
   "lastCommId": null,
   "lastKernelId": null
  },
  "kernelspec": {
   "display_name": "Julia 1.8.4",
   "language": "julia",
   "name": "julia-1.8"
  },
  "language_info": {
   "file_extension": ".jl",
   "mimetype": "application/julia",
   "name": "julia",
   "version": "1.8.5"
  }
 },
 "nbformat": 4,
 "nbformat_minor": 5
}
